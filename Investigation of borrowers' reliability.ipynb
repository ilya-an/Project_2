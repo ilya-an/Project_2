{
 "cells": [
  {
   "cell_type": "markdown",
   "id": "640438ec",
   "metadata": {
    "deletable": false,
    "editable": false,
    "id": "c81daeeb"
   },
   "source": [
    "# Исследование надежности заемщиков\n"
   ]
  },
  {
   "cell_type": "markdown",
   "id": "eee6f6c2",
   "metadata": {
    "deletable": false,
    "editable": false,
    "id": "827c20bf"
   },
   "source": [
    "Во второй части проекта вы выполните шаги 3 и 4. Их вручную проверит ревьюер.\n",
    "Чтобы вам не пришлось писать код заново для шагов 1 и 2, мы добавили авторские решения в ячейки с кодом. \n",
    "\n"
   ]
  },
  {
   "cell_type": "markdown",
   "id": "c54a7cfe",
   "metadata": {
    "deletable": false,
    "editable": false,
    "id": "744d7639"
   },
   "source": [
    "## Откройте таблицу и изучите общую информацию о данных"
   ]
  },
  {
   "cell_type": "markdown",
   "id": "15e86a6d",
   "metadata": {
    "deletable": false,
    "editable": false,
    "id": "e7a14c31"
   },
   "source": [
    "**Задание 1. Импортируйте библиотеку pandas. Считайте данные из csv-файла в датафрейм и сохраните в переменную `data`. Путь к файлу:**\n",
    "\n",
    "`/datasets/data.csv`"
   ]
  },
  {
   "cell_type": "code",
   "execution_count": 1,
   "id": "880af495",
   "metadata": {
    "deletable": false,
    "id": "7bcf75c9"
   },
   "outputs": [],
   "source": [
    "import pandas as pd\n",
    "\n",
    "try:\n",
    "    data = pd.read_csv('/datasets/data.csv')\n",
    "except:\n",
    "    data = pd.read_csv('https://code.s3.yandex.net/datasets/data.csv')"
   ]
  },
  {
   "cell_type": "markdown",
   "id": "b6a46866",
   "metadata": {
    "deletable": false,
    "editable": false,
    "id": "b8038fe3"
   },
   "source": [
    "**Задание 2. Выведите первые 20 строчек датафрейма `data` на экран.**"
   ]
  },
  {
   "cell_type": "code",
   "execution_count": 2,
   "id": "61fe1668",
   "metadata": {
    "deletable": false,
    "id": "2a7cab99",
    "outputId": "1a8f3ef2-d323-4ec2-ddf7-89670b5944c4"
   },
   "outputs": [
    {
     "data": {
      "text/html": [
       "<div>\n",
       "<style scoped>\n",
       "    .dataframe tbody tr th:only-of-type {\n",
       "        vertical-align: middle;\n",
       "    }\n",
       "\n",
       "    .dataframe tbody tr th {\n",
       "        vertical-align: top;\n",
       "    }\n",
       "\n",
       "    .dataframe thead th {\n",
       "        text-align: right;\n",
       "    }\n",
       "</style>\n",
       "<table border=\"1\" class=\"dataframe\">\n",
       "  <thead>\n",
       "    <tr style=\"text-align: right;\">\n",
       "      <th></th>\n",
       "      <th>children</th>\n",
       "      <th>days_employed</th>\n",
       "      <th>dob_years</th>\n",
       "      <th>education</th>\n",
       "      <th>education_id</th>\n",
       "      <th>family_status</th>\n",
       "      <th>family_status_id</th>\n",
       "      <th>gender</th>\n",
       "      <th>income_type</th>\n",
       "      <th>debt</th>\n",
       "      <th>total_income</th>\n",
       "      <th>purpose</th>\n",
       "    </tr>\n",
       "  </thead>\n",
       "  <tbody>\n",
       "    <tr>\n",
       "      <th>0</th>\n",
       "      <td>1</td>\n",
       "      <td>-8437.673028</td>\n",
       "      <td>42</td>\n",
       "      <td>высшее</td>\n",
       "      <td>0</td>\n",
       "      <td>женат / замужем</td>\n",
       "      <td>0</td>\n",
       "      <td>F</td>\n",
       "      <td>сотрудник</td>\n",
       "      <td>0</td>\n",
       "      <td>253875.639453</td>\n",
       "      <td>покупка жилья</td>\n",
       "    </tr>\n",
       "    <tr>\n",
       "      <th>1</th>\n",
       "      <td>1</td>\n",
       "      <td>-4024.803754</td>\n",
       "      <td>36</td>\n",
       "      <td>среднее</td>\n",
       "      <td>1</td>\n",
       "      <td>женат / замужем</td>\n",
       "      <td>0</td>\n",
       "      <td>F</td>\n",
       "      <td>сотрудник</td>\n",
       "      <td>0</td>\n",
       "      <td>112080.014102</td>\n",
       "      <td>приобретение автомобиля</td>\n",
       "    </tr>\n",
       "    <tr>\n",
       "      <th>2</th>\n",
       "      <td>0</td>\n",
       "      <td>-5623.422610</td>\n",
       "      <td>33</td>\n",
       "      <td>Среднее</td>\n",
       "      <td>1</td>\n",
       "      <td>женат / замужем</td>\n",
       "      <td>0</td>\n",
       "      <td>M</td>\n",
       "      <td>сотрудник</td>\n",
       "      <td>0</td>\n",
       "      <td>145885.952297</td>\n",
       "      <td>покупка жилья</td>\n",
       "    </tr>\n",
       "    <tr>\n",
       "      <th>3</th>\n",
       "      <td>3</td>\n",
       "      <td>-4124.747207</td>\n",
       "      <td>32</td>\n",
       "      <td>среднее</td>\n",
       "      <td>1</td>\n",
       "      <td>женат / замужем</td>\n",
       "      <td>0</td>\n",
       "      <td>M</td>\n",
       "      <td>сотрудник</td>\n",
       "      <td>0</td>\n",
       "      <td>267628.550329</td>\n",
       "      <td>дополнительное образование</td>\n",
       "    </tr>\n",
       "    <tr>\n",
       "      <th>4</th>\n",
       "      <td>0</td>\n",
       "      <td>340266.072047</td>\n",
       "      <td>53</td>\n",
       "      <td>среднее</td>\n",
       "      <td>1</td>\n",
       "      <td>гражданский брак</td>\n",
       "      <td>1</td>\n",
       "      <td>F</td>\n",
       "      <td>пенсионер</td>\n",
       "      <td>0</td>\n",
       "      <td>158616.077870</td>\n",
       "      <td>сыграть свадьбу</td>\n",
       "    </tr>\n",
       "    <tr>\n",
       "      <th>5</th>\n",
       "      <td>0</td>\n",
       "      <td>-926.185831</td>\n",
       "      <td>27</td>\n",
       "      <td>высшее</td>\n",
       "      <td>0</td>\n",
       "      <td>гражданский брак</td>\n",
       "      <td>1</td>\n",
       "      <td>M</td>\n",
       "      <td>компаньон</td>\n",
       "      <td>0</td>\n",
       "      <td>255763.565419</td>\n",
       "      <td>покупка жилья</td>\n",
       "    </tr>\n",
       "    <tr>\n",
       "      <th>6</th>\n",
       "      <td>0</td>\n",
       "      <td>-2879.202052</td>\n",
       "      <td>43</td>\n",
       "      <td>высшее</td>\n",
       "      <td>0</td>\n",
       "      <td>женат / замужем</td>\n",
       "      <td>0</td>\n",
       "      <td>F</td>\n",
       "      <td>компаньон</td>\n",
       "      <td>0</td>\n",
       "      <td>240525.971920</td>\n",
       "      <td>операции с жильем</td>\n",
       "    </tr>\n",
       "    <tr>\n",
       "      <th>7</th>\n",
       "      <td>0</td>\n",
       "      <td>-152.779569</td>\n",
       "      <td>50</td>\n",
       "      <td>СРЕДНЕЕ</td>\n",
       "      <td>1</td>\n",
       "      <td>женат / замужем</td>\n",
       "      <td>0</td>\n",
       "      <td>M</td>\n",
       "      <td>сотрудник</td>\n",
       "      <td>0</td>\n",
       "      <td>135823.934197</td>\n",
       "      <td>образование</td>\n",
       "    </tr>\n",
       "    <tr>\n",
       "      <th>8</th>\n",
       "      <td>2</td>\n",
       "      <td>-6929.865299</td>\n",
       "      <td>35</td>\n",
       "      <td>ВЫСШЕЕ</td>\n",
       "      <td>0</td>\n",
       "      <td>гражданский брак</td>\n",
       "      <td>1</td>\n",
       "      <td>F</td>\n",
       "      <td>сотрудник</td>\n",
       "      <td>0</td>\n",
       "      <td>95856.832424</td>\n",
       "      <td>на проведение свадьбы</td>\n",
       "    </tr>\n",
       "    <tr>\n",
       "      <th>9</th>\n",
       "      <td>0</td>\n",
       "      <td>-2188.756445</td>\n",
       "      <td>41</td>\n",
       "      <td>среднее</td>\n",
       "      <td>1</td>\n",
       "      <td>женат / замужем</td>\n",
       "      <td>0</td>\n",
       "      <td>M</td>\n",
       "      <td>сотрудник</td>\n",
       "      <td>0</td>\n",
       "      <td>144425.938277</td>\n",
       "      <td>покупка жилья для семьи</td>\n",
       "    </tr>\n",
       "    <tr>\n",
       "      <th>10</th>\n",
       "      <td>2</td>\n",
       "      <td>-4171.483647</td>\n",
       "      <td>36</td>\n",
       "      <td>высшее</td>\n",
       "      <td>0</td>\n",
       "      <td>женат / замужем</td>\n",
       "      <td>0</td>\n",
       "      <td>M</td>\n",
       "      <td>компаньон</td>\n",
       "      <td>0</td>\n",
       "      <td>113943.491460</td>\n",
       "      <td>покупка недвижимости</td>\n",
       "    </tr>\n",
       "    <tr>\n",
       "      <th>11</th>\n",
       "      <td>0</td>\n",
       "      <td>-792.701887</td>\n",
       "      <td>40</td>\n",
       "      <td>среднее</td>\n",
       "      <td>1</td>\n",
       "      <td>женат / замужем</td>\n",
       "      <td>0</td>\n",
       "      <td>F</td>\n",
       "      <td>сотрудник</td>\n",
       "      <td>0</td>\n",
       "      <td>77069.234271</td>\n",
       "      <td>покупка коммерческой недвижимости</td>\n",
       "    </tr>\n",
       "    <tr>\n",
       "      <th>12</th>\n",
       "      <td>0</td>\n",
       "      <td>NaN</td>\n",
       "      <td>65</td>\n",
       "      <td>среднее</td>\n",
       "      <td>1</td>\n",
       "      <td>гражданский брак</td>\n",
       "      <td>1</td>\n",
       "      <td>M</td>\n",
       "      <td>пенсионер</td>\n",
       "      <td>0</td>\n",
       "      <td>NaN</td>\n",
       "      <td>сыграть свадьбу</td>\n",
       "    </tr>\n",
       "    <tr>\n",
       "      <th>13</th>\n",
       "      <td>0</td>\n",
       "      <td>-1846.641941</td>\n",
       "      <td>54</td>\n",
       "      <td>неоконченное высшее</td>\n",
       "      <td>2</td>\n",
       "      <td>женат / замужем</td>\n",
       "      <td>0</td>\n",
       "      <td>F</td>\n",
       "      <td>сотрудник</td>\n",
       "      <td>0</td>\n",
       "      <td>130458.228857</td>\n",
       "      <td>приобретение автомобиля</td>\n",
       "    </tr>\n",
       "    <tr>\n",
       "      <th>14</th>\n",
       "      <td>0</td>\n",
       "      <td>-1844.956182</td>\n",
       "      <td>56</td>\n",
       "      <td>высшее</td>\n",
       "      <td>0</td>\n",
       "      <td>гражданский брак</td>\n",
       "      <td>1</td>\n",
       "      <td>F</td>\n",
       "      <td>компаньон</td>\n",
       "      <td>1</td>\n",
       "      <td>165127.911772</td>\n",
       "      <td>покупка жилой недвижимости</td>\n",
       "    </tr>\n",
       "    <tr>\n",
       "      <th>15</th>\n",
       "      <td>1</td>\n",
       "      <td>-972.364419</td>\n",
       "      <td>26</td>\n",
       "      <td>среднее</td>\n",
       "      <td>1</td>\n",
       "      <td>женат / замужем</td>\n",
       "      <td>0</td>\n",
       "      <td>F</td>\n",
       "      <td>сотрудник</td>\n",
       "      <td>0</td>\n",
       "      <td>116820.904450</td>\n",
       "      <td>строительство собственной недвижимости</td>\n",
       "    </tr>\n",
       "    <tr>\n",
       "      <th>16</th>\n",
       "      <td>0</td>\n",
       "      <td>-1719.934226</td>\n",
       "      <td>35</td>\n",
       "      <td>среднее</td>\n",
       "      <td>1</td>\n",
       "      <td>женат / замужем</td>\n",
       "      <td>0</td>\n",
       "      <td>F</td>\n",
       "      <td>сотрудник</td>\n",
       "      <td>0</td>\n",
       "      <td>289202.704229</td>\n",
       "      <td>недвижимость</td>\n",
       "    </tr>\n",
       "    <tr>\n",
       "      <th>17</th>\n",
       "      <td>0</td>\n",
       "      <td>-2369.999720</td>\n",
       "      <td>33</td>\n",
       "      <td>высшее</td>\n",
       "      <td>0</td>\n",
       "      <td>гражданский брак</td>\n",
       "      <td>1</td>\n",
       "      <td>M</td>\n",
       "      <td>сотрудник</td>\n",
       "      <td>0</td>\n",
       "      <td>90410.586745</td>\n",
       "      <td>строительство недвижимости</td>\n",
       "    </tr>\n",
       "    <tr>\n",
       "      <th>18</th>\n",
       "      <td>0</td>\n",
       "      <td>400281.136913</td>\n",
       "      <td>53</td>\n",
       "      <td>среднее</td>\n",
       "      <td>1</td>\n",
       "      <td>вдовец / вдова</td>\n",
       "      <td>2</td>\n",
       "      <td>F</td>\n",
       "      <td>пенсионер</td>\n",
       "      <td>0</td>\n",
       "      <td>56823.777243</td>\n",
       "      <td>на покупку подержанного автомобиля</td>\n",
       "    </tr>\n",
       "    <tr>\n",
       "      <th>19</th>\n",
       "      <td>0</td>\n",
       "      <td>-10038.818549</td>\n",
       "      <td>48</td>\n",
       "      <td>СРЕДНЕЕ</td>\n",
       "      <td>1</td>\n",
       "      <td>в разводе</td>\n",
       "      <td>3</td>\n",
       "      <td>F</td>\n",
       "      <td>сотрудник</td>\n",
       "      <td>0</td>\n",
       "      <td>242831.107982</td>\n",
       "      <td>на покупку своего автомобиля</td>\n",
       "    </tr>\n",
       "  </tbody>\n",
       "</table>\n",
       "</div>"
      ],
      "text/plain": [
       "    children  days_employed  dob_years            education  education_id  \\\n",
       "0          1   -8437.673028         42               высшее             0   \n",
       "1          1   -4024.803754         36              среднее             1   \n",
       "2          0   -5623.422610         33              Среднее             1   \n",
       "3          3   -4124.747207         32              среднее             1   \n",
       "4          0  340266.072047         53              среднее             1   \n",
       "5          0    -926.185831         27               высшее             0   \n",
       "6          0   -2879.202052         43               высшее             0   \n",
       "7          0    -152.779569         50              СРЕДНЕЕ             1   \n",
       "8          2   -6929.865299         35               ВЫСШЕЕ             0   \n",
       "9          0   -2188.756445         41              среднее             1   \n",
       "10         2   -4171.483647         36               высшее             0   \n",
       "11         0    -792.701887         40              среднее             1   \n",
       "12         0            NaN         65              среднее             1   \n",
       "13         0   -1846.641941         54  неоконченное высшее             2   \n",
       "14         0   -1844.956182         56               высшее             0   \n",
       "15         1    -972.364419         26              среднее             1   \n",
       "16         0   -1719.934226         35              среднее             1   \n",
       "17         0   -2369.999720         33               высшее             0   \n",
       "18         0  400281.136913         53              среднее             1   \n",
       "19         0  -10038.818549         48              СРЕДНЕЕ             1   \n",
       "\n",
       "       family_status  family_status_id gender income_type  debt  \\\n",
       "0    женат / замужем                 0      F   сотрудник     0   \n",
       "1    женат / замужем                 0      F   сотрудник     0   \n",
       "2    женат / замужем                 0      M   сотрудник     0   \n",
       "3    женат / замужем                 0      M   сотрудник     0   \n",
       "4   гражданский брак                 1      F   пенсионер     0   \n",
       "5   гражданский брак                 1      M   компаньон     0   \n",
       "6    женат / замужем                 0      F   компаньон     0   \n",
       "7    женат / замужем                 0      M   сотрудник     0   \n",
       "8   гражданский брак                 1      F   сотрудник     0   \n",
       "9    женат / замужем                 0      M   сотрудник     0   \n",
       "10   женат / замужем                 0      M   компаньон     0   \n",
       "11   женат / замужем                 0      F   сотрудник     0   \n",
       "12  гражданский брак                 1      M   пенсионер     0   \n",
       "13   женат / замужем                 0      F   сотрудник     0   \n",
       "14  гражданский брак                 1      F   компаньон     1   \n",
       "15   женат / замужем                 0      F   сотрудник     0   \n",
       "16   женат / замужем                 0      F   сотрудник     0   \n",
       "17  гражданский брак                 1      M   сотрудник     0   \n",
       "18    вдовец / вдова                 2      F   пенсионер     0   \n",
       "19         в разводе                 3      F   сотрудник     0   \n",
       "\n",
       "     total_income                                 purpose  \n",
       "0   253875.639453                           покупка жилья  \n",
       "1   112080.014102                 приобретение автомобиля  \n",
       "2   145885.952297                           покупка жилья  \n",
       "3   267628.550329              дополнительное образование  \n",
       "4   158616.077870                         сыграть свадьбу  \n",
       "5   255763.565419                           покупка жилья  \n",
       "6   240525.971920                       операции с жильем  \n",
       "7   135823.934197                             образование  \n",
       "8    95856.832424                   на проведение свадьбы  \n",
       "9   144425.938277                 покупка жилья для семьи  \n",
       "10  113943.491460                    покупка недвижимости  \n",
       "11   77069.234271       покупка коммерческой недвижимости  \n",
       "12            NaN                         сыграть свадьбу  \n",
       "13  130458.228857                 приобретение автомобиля  \n",
       "14  165127.911772              покупка жилой недвижимости  \n",
       "15  116820.904450  строительство собственной недвижимости  \n",
       "16  289202.704229                            недвижимость  \n",
       "17   90410.586745              строительство недвижимости  \n",
       "18   56823.777243      на покупку подержанного автомобиля  \n",
       "19  242831.107982            на покупку своего автомобиля  "
      ]
     },
     "execution_count": 2,
     "metadata": {},
     "output_type": "execute_result"
    }
   ],
   "source": [
    "data.head(20)"
   ]
  },
  {
   "cell_type": "markdown",
   "id": "fd58b947",
   "metadata": {
    "deletable": false,
    "editable": false,
    "id": "1c12e233"
   },
   "source": [
    "**Задание 3. Выведите основную информацию о датафрейме с помощью метода `info()`.**"
   ]
  },
  {
   "cell_type": "code",
   "execution_count": 3,
   "id": "58ef35b1",
   "metadata": {
    "deletable": false,
    "id": "2b757bca",
    "outputId": "15376089-8dad-46c9-b520-c05248d43158"
   },
   "outputs": [
    {
     "name": "stdout",
     "output_type": "stream",
     "text": [
      "<class 'pandas.core.frame.DataFrame'>\n",
      "RangeIndex: 21525 entries, 0 to 21524\n",
      "Data columns (total 12 columns):\n",
      " #   Column            Non-Null Count  Dtype  \n",
      "---  ------            --------------  -----  \n",
      " 0   children          21525 non-null  int64  \n",
      " 1   days_employed     19351 non-null  float64\n",
      " 2   dob_years         21525 non-null  int64  \n",
      " 3   education         21525 non-null  object \n",
      " 4   education_id      21525 non-null  int64  \n",
      " 5   family_status     21525 non-null  object \n",
      " 6   family_status_id  21525 non-null  int64  \n",
      " 7   gender            21525 non-null  object \n",
      " 8   income_type       21525 non-null  object \n",
      " 9   debt              21525 non-null  int64  \n",
      " 10  total_income      19351 non-null  float64\n",
      " 11  purpose           21525 non-null  object \n",
      "dtypes: float64(2), int64(5), object(5)\n",
      "memory usage: 2.0+ MB\n"
     ]
    }
   ],
   "source": [
    "data.info()"
   ]
  },
  {
   "cell_type": "markdown",
   "id": "4102fb9a",
   "metadata": {
    "deletable": false,
    "editable": false,
    "id": "333ec665"
   },
   "source": [
    "## Предобработка данных"
   ]
  },
  {
   "cell_type": "markdown",
   "id": "e552b206",
   "metadata": {
    "deletable": false,
    "editable": false,
    "id": "02d92d53"
   },
   "source": [
    "### Удаление пропусков"
   ]
  },
  {
   "cell_type": "markdown",
   "id": "397faa31",
   "metadata": {
    "deletable": false,
    "editable": false,
    "id": "cd84967c"
   },
   "source": [
    "**Задание 4. Выведите количество пропущенных значений для каждого столбца. Используйте комбинацию двух методов.**"
   ]
  },
  {
   "cell_type": "code",
   "execution_count": 4,
   "id": "acb03d9b",
   "metadata": {
    "deletable": false,
    "id": "7f9b2309",
    "outputId": "81f4d817-781c-465c-ed15-91ce4446810d"
   },
   "outputs": [
    {
     "data": {
      "text/plain": [
       "children               0\n",
       "days_employed       2174\n",
       "dob_years              0\n",
       "education              0\n",
       "education_id           0\n",
       "family_status          0\n",
       "family_status_id       0\n",
       "gender                 0\n",
       "income_type            0\n",
       "debt                   0\n",
       "total_income        2174\n",
       "purpose                0\n",
       "dtype: int64"
      ]
     },
     "execution_count": 4,
     "metadata": {},
     "output_type": "execute_result"
    }
   ],
   "source": [
    "data.isna().sum()"
   ]
  },
  {
   "cell_type": "markdown",
   "id": "952a64ae",
   "metadata": {
    "deletable": false,
    "editable": false,
    "id": "db86e27b"
   },
   "source": [
    "**Задание 5. В двух столбцах есть пропущенные значения. Один из них — `days_employed`. Пропуски в этом столбце вы обработаете на следующем этапе. Другой столбец с пропущенными значениями — `total_income` — хранит данные о доходах. На сумму дохода сильнее всего влияет тип занятости, поэтому заполнить пропуски в этом столбце нужно медианным значением по каждому типу из столбца `income_type`. Например, у человека с типом занятости `сотрудник` пропуск в столбце `total_income` должен быть заполнен медианным доходом среди всех записей с тем же типом.**"
   ]
  },
  {
   "cell_type": "code",
   "execution_count": 5,
   "id": "69d300cb",
   "metadata": {
    "deletable": false,
    "id": "42006a93"
   },
   "outputs": [],
   "source": [
    "for t in data['income_type'].unique():\n",
    "    data.loc[(data['income_type'] == t) & (data['total_income'].isna()), 'total_income'] = \\\n",
    "    data.loc[(data['income_type'] == t), 'total_income'].median()"
   ]
  },
  {
   "cell_type": "markdown",
   "id": "9ce2e76d",
   "metadata": {
    "deletable": false,
    "editable": false,
    "id": "89da5ece"
   },
   "source": [
    "### Обработка аномальных значений"
   ]
  },
  {
   "cell_type": "markdown",
   "id": "e6b5e56e",
   "metadata": {
    "deletable": false,
    "editable": false,
    "id": "57964554"
   },
   "source": [
    "**Задание 6. В данных могут встречаться артефакты (аномалии) — значения, которые не отражают действительность и появились по какой-то ошибке. таким артефактом будет отрицательное количество дней трудового стажа в столбце `days_employed`. Для реальных данных это нормально. Обработайте значения в этом столбце: замените все отрицательные значения положительными с помощью метода `abs()`.**"
   ]
  },
  {
   "cell_type": "code",
   "execution_count": 6,
   "id": "a9f6df32",
   "metadata": {
    "deletable": false,
    "id": "f6f055bf"
   },
   "outputs": [],
   "source": [
    "data['days_employed'] = data['days_employed'].abs()"
   ]
  },
  {
   "cell_type": "markdown",
   "id": "3bf51fda",
   "metadata": {
    "deletable": false,
    "editable": false,
    "id": "6107dd2f"
   },
   "source": [
    "**Задание 7. Для каждого типа занятости выведите медианное значение трудового стажа `days_employed` в днях.**"
   ]
  },
  {
   "cell_type": "code",
   "execution_count": 7,
   "id": "8b30b11a",
   "metadata": {
    "deletable": false,
    "id": "85a5faf6",
    "outputId": "801ef80e-522b-4668-f34e-565af7432bcf"
   },
   "outputs": [
    {
     "data": {
      "text/plain": [
       "income_type\n",
       "безработный        366413.652744\n",
       "в декрете            3296.759962\n",
       "госслужащий          2689.368353\n",
       "компаньон            1547.382223\n",
       "пенсионер          365213.306266\n",
       "предприниматель       520.848083\n",
       "сотрудник            1574.202821\n",
       "студент               578.751554\n",
       "Name: days_employed, dtype: float64"
      ]
     },
     "execution_count": 7,
     "metadata": {},
     "output_type": "execute_result"
    }
   ],
   "source": [
    "data.groupby('income_type')['days_employed'].agg('median')"
   ]
  },
  {
   "cell_type": "markdown",
   "id": "9d5f220d",
   "metadata": {
    "deletable": false,
    "editable": false,
    "id": "38d1a030"
   },
   "source": [
    "У двух типов (безработные и пенсионеры) получатся аномально большие значения. Исправить такие значения сложно, поэтому оставьте их как есть. Тем более этот столбец не понадобится вам для исследования."
   ]
  },
  {
   "cell_type": "markdown",
   "id": "7b06d45c",
   "metadata": {
    "deletable": false,
    "editable": false,
    "id": "d8a9f147"
   },
   "source": [
    "**Задание 8. Выведите перечень уникальных значений столбца `children`.**"
   ]
  },
  {
   "cell_type": "code",
   "execution_count": 8,
   "id": "ff878741",
   "metadata": {
    "deletable": false,
    "id": "ef5056eb",
    "outputId": "6975b15c-7f95-4697-d16d-a0c79b657b03"
   },
   "outputs": [
    {
     "data": {
      "text/plain": [
       "array([ 1,  0,  3,  2, -1,  4, 20,  5])"
      ]
     },
     "execution_count": 8,
     "metadata": {},
     "output_type": "execute_result"
    }
   ],
   "source": [
    "data['children'].unique()"
   ]
  },
  {
   "cell_type": "markdown",
   "id": "f3f40c70",
   "metadata": {
    "deletable": false,
    "editable": false,
    "id": "40b9ebf2"
   },
   "source": [
    "**Задание 9. В столбце `children` есть два аномальных значения. Удалите строки, в которых встречаются такие аномальные значения из датафрейма `data`.**"
   ]
  },
  {
   "cell_type": "code",
   "execution_count": 9,
   "id": "761d75fa",
   "metadata": {
    "deletable": false,
    "id": "3ff9801d"
   },
   "outputs": [],
   "source": [
    "data = data[(data['children'] != -1) & (data['children'] != 20)]"
   ]
  },
  {
   "cell_type": "markdown",
   "id": "14161cb4",
   "metadata": {
    "deletable": false,
    "editable": false,
    "id": "bbc4d0ce"
   },
   "source": [
    "**Задание 10. Ещё раз выведите перечень уникальных значений столбца `children`, чтобы убедиться, что артефакты удалены.**"
   ]
  },
  {
   "cell_type": "code",
   "execution_count": 10,
   "id": "18c23133",
   "metadata": {
    "deletable": false,
    "id": "ad4fa8b7",
    "outputId": "b2097101-d49d-44d9-901b-32a65c9463d1"
   },
   "outputs": [
    {
     "data": {
      "text/plain": [
       "array([1, 0, 3, 2, 4, 5])"
      ]
     },
     "execution_count": 10,
     "metadata": {},
     "output_type": "execute_result"
    }
   ],
   "source": [
    "data['children'].unique()"
   ]
  },
  {
   "cell_type": "markdown",
   "id": "c193b990",
   "metadata": {
    "deletable": false,
    "editable": false,
    "id": "75440b63"
   },
   "source": [
    "### Удаление пропусков (продолжение)"
   ]
  },
  {
   "cell_type": "markdown",
   "id": "1923d1b1",
   "metadata": {
    "deletable": false,
    "editable": false,
    "id": "f4ea573f"
   },
   "source": [
    "**Задание 11. Заполните пропуски в столбце `days_employed` медианными значениями по каждого типа занятости `income_type`.**"
   ]
  },
  {
   "cell_type": "code",
   "execution_count": 11,
   "id": "6ef2f22d",
   "metadata": {
    "deletable": false,
    "id": "af6b1a7e"
   },
   "outputs": [],
   "source": [
    "for t in data['income_type'].unique():\n",
    "    data.loc[(data['income_type'] == t) & (data['days_employed'].isna()), 'days_employed'] = \\\n",
    "    data.loc[(data['income_type'] == t), 'days_employed'].median()"
   ]
  },
  {
   "cell_type": "markdown",
   "id": "5fbd8865",
   "metadata": {
    "deletable": false,
    "editable": false,
    "id": "2753f40d"
   },
   "source": [
    "**Задание 12. Убедитесь, что все пропуски заполнены. Проверьте себя и ещё раз выведите количество пропущенных значений для каждого столбца с помощью двух методов.**"
   ]
  },
  {
   "cell_type": "code",
   "execution_count": 12,
   "id": "ff0641a2",
   "metadata": {
    "deletable": false,
    "id": "55f78bc2",
    "outputId": "8da1e4e1-358e-4e87-98c9-f261bce0a7b2"
   },
   "outputs": [
    {
     "data": {
      "text/plain": [
       "children            0\n",
       "days_employed       0\n",
       "dob_years           0\n",
       "education           0\n",
       "education_id        0\n",
       "family_status       0\n",
       "family_status_id    0\n",
       "gender              0\n",
       "income_type         0\n",
       "debt                0\n",
       "total_income        0\n",
       "purpose             0\n",
       "dtype: int64"
      ]
     },
     "execution_count": 12,
     "metadata": {},
     "output_type": "execute_result"
    }
   ],
   "source": [
    "data.isna().sum()"
   ]
  },
  {
   "cell_type": "markdown",
   "id": "bea13664",
   "metadata": {
    "deletable": false,
    "editable": false,
    "id": "ddc81e43"
   },
   "source": [
    "### Изменение типов данных"
   ]
  },
  {
   "cell_type": "markdown",
   "id": "0be24a1b",
   "metadata": {
    "deletable": false,
    "editable": false,
    "id": "42d19d24"
   },
   "source": [
    "**Задание 13. Замените вещественный тип данных в столбце `total_income` на целочисленный с помощью метода `astype()`.**"
   ]
  },
  {
   "cell_type": "code",
   "execution_count": 13,
   "id": "dc2d09ca",
   "metadata": {
    "deletable": false,
    "id": "920b65ad"
   },
   "outputs": [],
   "source": [
    "data['total_income'] = data['total_income'].astype(int)"
   ]
  },
  {
   "cell_type": "markdown",
   "id": "55683d11",
   "metadata": {
    "deletable": false,
    "editable": false,
    "id": "80c420ba"
   },
   "source": [
    "### Обработка дубликатов"
   ]
  },
  {
   "cell_type": "markdown",
   "id": "86de0d3a",
   "metadata": {
    "deletable": false,
    "editable": false
   },
   "source": [
    "**Задание 14. Обработайте неявные дубликаты в столбце `education`. В этом столбце есть одни и те же значения, но записанные по-разному: с использованием заглавных и строчных букв. Приведите их к нижнему регистру. Проверьте остальные столбцы.**"
   ]
  },
  {
   "cell_type": "code",
   "execution_count": 14,
   "id": "8cf0ae51",
   "metadata": {
    "deletable": false
   },
   "outputs": [],
   "source": [
    "data['education'] = data['education'].str.lower()"
   ]
  },
  {
   "cell_type": "markdown",
   "id": "5a0e1d0b",
   "metadata": {
    "deletable": false,
    "editable": false,
    "id": "dc587695"
   },
   "source": [
    "**Задание 15. Выведите на экран количество строк-дубликатов в данных. Если такие строки присутствуют, удалите их.**"
   ]
  },
  {
   "cell_type": "code",
   "execution_count": 15,
   "id": "fab04a85",
   "metadata": {
    "deletable": false,
    "id": "3ee445e4",
    "outputId": "9684deba-1934-42d1-99e1-cda61740f822"
   },
   "outputs": [
    {
     "data": {
      "text/plain": [
       "71"
      ]
     },
     "execution_count": 15,
     "metadata": {},
     "output_type": "execute_result"
    }
   ],
   "source": [
    "data.duplicated().sum()"
   ]
  },
  {
   "cell_type": "code",
   "execution_count": 16,
   "id": "0bb24ed4",
   "metadata": {
    "deletable": false,
    "id": "8575fe05"
   },
   "outputs": [],
   "source": [
    "data = data.drop_duplicates()"
   ]
  },
  {
   "cell_type": "markdown",
   "id": "0aa3f585",
   "metadata": {
    "deletable": false,
    "editable": false,
    "id": "9904cf55"
   },
   "source": [
    "### Категоризация данных"
   ]
  },
  {
   "cell_type": "markdown",
   "id": "2fbf6eeb",
   "metadata": {
    "deletable": false,
    "editable": false,
    "id": "72fcc8a2"
   },
   "source": [
    "**Задание 16. На основании диапазонов, указанных ниже, создайте в датафрейме `data` столбец `total_income_category` с категориями:**\n",
    "\n",
    "- 0–30000 — `'E'`;\n",
    "- 30001–50000 — `'D'`;\n",
    "- 50001–200000 — `'C'`;\n",
    "- 200001–1000000 — `'B'`;\n",
    "- 1000001 и выше — `'A'`.\n",
    "\n",
    "\n",
    "**Например, кредитополучателю с доходом 25000 нужно назначить категорию `'E'`, а клиенту, получающему 235000, — `'B'`. Используйте собственную функцию с именем `categorize_income()` и метод `apply()`.**"
   ]
  },
  {
   "cell_type": "code",
   "execution_count": 17,
   "id": "e4751c36",
   "metadata": {
    "deletable": false,
    "id": "e1771346"
   },
   "outputs": [],
   "source": [
    "def categorize_income(income):\n",
    "    try:\n",
    "        if 0 <= income <= 30000:\n",
    "            return 'E'\n",
    "        elif 30001 <= income <= 50000:\n",
    "            return 'D'\n",
    "        elif 50001 <= income <= 200000:\n",
    "            return 'C'\n",
    "        elif 200001 <= income <= 1000000:\n",
    "            return 'B'\n",
    "        elif income >= 1000001:\n",
    "            return 'A'\n",
    "    except:\n",
    "        pass"
   ]
  },
  {
   "cell_type": "code",
   "execution_count": 18,
   "id": "d7c9f2ad",
   "metadata": {
    "deletable": false,
    "id": "d5f3586d"
   },
   "outputs": [],
   "source": [
    "data['total_income_category'] = data['total_income'].apply(categorize_income)"
   ]
  },
  {
   "cell_type": "markdown",
   "id": "cfcf9035",
   "metadata": {
    "deletable": false,
    "editable": false,
    "id": "dde49b5c"
   },
   "source": [
    "**Задание 17. Выведите на экран перечень уникальных целей взятия кредита из столбца `purpose`.**"
   ]
  },
  {
   "cell_type": "code",
   "execution_count": 19,
   "id": "74d7df14",
   "metadata": {
    "deletable": false,
    "id": "f67ce9b3",
    "outputId": "673c12d9-7d7e-4ae0-9812-c622c89dd244"
   },
   "outputs": [
    {
     "data": {
      "text/plain": [
       "array(['покупка жилья', 'приобретение автомобиля',\n",
       "       'дополнительное образование', 'сыграть свадьбу',\n",
       "       'операции с жильем', 'образование', 'на проведение свадьбы',\n",
       "       'покупка жилья для семьи', 'покупка недвижимости',\n",
       "       'покупка коммерческой недвижимости', 'покупка жилой недвижимости',\n",
       "       'строительство собственной недвижимости', 'недвижимость',\n",
       "       'строительство недвижимости', 'на покупку подержанного автомобиля',\n",
       "       'на покупку своего автомобиля',\n",
       "       'операции с коммерческой недвижимостью',\n",
       "       'строительство жилой недвижимости', 'жилье',\n",
       "       'операции со своей недвижимостью', 'автомобили',\n",
       "       'заняться образованием', 'сделка с подержанным автомобилем',\n",
       "       'получение образования', 'автомобиль', 'свадьба',\n",
       "       'получение дополнительного образования', 'покупка своего жилья',\n",
       "       'операции с недвижимостью', 'получение высшего образования',\n",
       "       'свой автомобиль', 'сделка с автомобилем',\n",
       "       'профильное образование', 'высшее образование',\n",
       "       'покупка жилья для сдачи', 'на покупку автомобиля', 'ремонт жилью',\n",
       "       'заняться высшим образованием'], dtype=object)"
      ]
     },
     "execution_count": 19,
     "metadata": {},
     "output_type": "execute_result"
    }
   ],
   "source": [
    "data['purpose'].unique()"
   ]
  },
  {
   "cell_type": "markdown",
   "id": "58ec8919",
   "metadata": {
    "deletable": false,
    "editable": false,
    "id": "85d0aef0"
   },
   "source": [
    "**Задание 18. Создайте функцию, которая на основании данных из столбца `purpose` сформирует новый столбец `purpose_category`, в который войдут следующие категории:**\n",
    "\n",
    "- `'операции с автомобилем'`,\n",
    "- `'операции с недвижимостью'`,\n",
    "- `'проведение свадьбы'`,\n",
    "- `'получение образования'`.\n",
    "\n",
    "**Например, если в столбце `purpose` находится подстрока `'на покупку автомобиля'`, то в столбце `purpose_category` должна появиться строка `'операции с автомобилем'`.**\n",
    "\n",
    "**Используйте собственную функцию с именем `categorize_purpose()` и метод `apply()`. Изучите данные в столбце `purpose` и определите, какие подстроки помогут вам правильно определить категорию.**"
   ]
  },
  {
   "cell_type": "code",
   "execution_count": 20,
   "id": "88440313",
   "metadata": {
    "deletable": false,
    "id": "e149fab4"
   },
   "outputs": [],
   "source": [
    "def categorize_purpose(row):\n",
    "    try:\n",
    "        if 'автом' in row:\n",
    "            return 'операции с автомобилем'\n",
    "        elif 'жил' in row or 'недвиж' in row:\n",
    "            return 'операции с недвижимостью'\n",
    "        elif 'свад' in row:\n",
    "            return 'проведение свадьбы'\n",
    "        elif 'образов' in row:\n",
    "            return 'получение образования'\n",
    "    except:\n",
    "        return 'нет категории'"
   ]
  },
  {
   "cell_type": "code",
   "execution_count": 21,
   "id": "4e26367e",
   "metadata": {
    "deletable": false,
    "id": "bf36e69b"
   },
   "outputs": [],
   "source": [
    "data['purpose_category'] = data['purpose'].apply(categorize_purpose)"
   ]
  },
  {
   "cell_type": "markdown",
   "id": "4e9dd2ea",
   "metadata": {
    "deletable": false,
    "editable": false,
    "id": "09b242bf"
   },
   "source": [
    "### Шаг 3. Исследуйте данные и ответьте на вопросы"
   ]
  },
  {
   "cell_type": "markdown",
   "id": "f4025bab",
   "metadata": {
    "deletable": false,
    "editable": false,
    "id": "c5d66278"
   },
   "source": [
    "#### 3.1 Есть ли зависимость между количеством детей и возвратом кредита в срок?"
   ]
  },
  {
   "cell_type": "code",
   "execution_count": 22,
   "id": "471f01e2",
   "metadata": {
    "deletable": false,
    "id": "2cacfc4a"
   },
   "outputs": [
    {
     "data": {
      "text/html": [
       "<div>\n",
       "<style scoped>\n",
       "    .dataframe tbody tr th:only-of-type {\n",
       "        vertical-align: middle;\n",
       "    }\n",
       "\n",
       "    .dataframe tbody tr th {\n",
       "        vertical-align: top;\n",
       "    }\n",
       "\n",
       "    .dataframe thead th {\n",
       "        text-align: right;\n",
       "    }\n",
       "</style>\n",
       "<table border=\"1\" class=\"dataframe\">\n",
       "  <thead>\n",
       "    <tr style=\"text-align: right;\">\n",
       "      <th></th>\n",
       "      <th>Количество заемщиков с детьми</th>\n",
       "      <th>Доля заемщиков с детьми</th>\n",
       "    </tr>\n",
       "    <tr>\n",
       "      <th>children</th>\n",
       "      <th></th>\n",
       "      <th></th>\n",
       "    </tr>\n",
       "  </thead>\n",
       "  <tbody>\n",
       "    <tr>\n",
       "      <th>0</th>\n",
       "      <td>14091</td>\n",
       "      <td>7.54%</td>\n",
       "    </tr>\n",
       "    <tr>\n",
       "      <th>1</th>\n",
       "      <td>4808</td>\n",
       "      <td>9.23%</td>\n",
       "    </tr>\n",
       "    <tr>\n",
       "      <th>2</th>\n",
       "      <td>2052</td>\n",
       "      <td>9.45%</td>\n",
       "    </tr>\n",
       "    <tr>\n",
       "      <th>3</th>\n",
       "      <td>330</td>\n",
       "      <td>8.18%</td>\n",
       "    </tr>\n",
       "    <tr>\n",
       "      <th>4</th>\n",
       "      <td>41</td>\n",
       "      <td>9.76%</td>\n",
       "    </tr>\n",
       "    <tr>\n",
       "      <th>5</th>\n",
       "      <td>9</td>\n",
       "      <td>0.00%</td>\n",
       "    </tr>\n",
       "  </tbody>\n",
       "</table>\n",
       "</div>"
      ],
      "text/plain": [
       "          Количество заемщиков с детьми Доля заемщиков с детьми\n",
       "children                                                       \n",
       "0                                 14091                   7.54%\n",
       "1                                  4808                   9.23%\n",
       "2                                  2052                   9.45%\n",
       "3                                   330                   8.18%\n",
       "4                                    41                   9.76%\n",
       "5                                     9                   0.00%"
      ]
     },
     "metadata": {},
     "output_type": "display_data"
    }
   ],
   "source": [
    "import numpy as np\n",
    "def share_debt(x):\n",
    "    share = np.mean(x)\n",
    "    return '{:.2%}'.format(share)\n",
    "\n",
    "children_function_new = data.groupby('children')['debt'].agg(['count', share_debt])\n",
    "children_function_new = children_function_new.rename(columns={'count': 'Количество заемщиков с детьми', 'share_debt': 'Доля заемщиков с детьми'})\n",
    "display(children_function_new)\n",
    "\n",
    "# Ваш код будет здесь. Вы можете создавать новые ячейки."
   ]
  },
  {
   "cell_type": "code",
   "execution_count": 23,
   "id": "cd27eef7",
   "metadata": {},
   "outputs": [
    {
     "data": {
      "text/html": [
       "<div>\n",
       "<style scoped>\n",
       "    .dataframe tbody tr th:only-of-type {\n",
       "        vertical-align: middle;\n",
       "    }\n",
       "\n",
       "    .dataframe tbody tr th {\n",
       "        vertical-align: top;\n",
       "    }\n",
       "\n",
       "    .dataframe thead tr th {\n",
       "        text-align: left;\n",
       "    }\n",
       "\n",
       "    .dataframe thead tr:last-of-type th {\n",
       "        text-align: right;\n",
       "    }\n",
       "</style>\n",
       "<table border=\"1\" class=\"dataframe\">\n",
       "  <thead>\n",
       "    <tr>\n",
       "      <th></th>\n",
       "      <th>Имеется просрочка</th>\n",
       "      <th>Общее кол-во заемщиков</th>\n",
       "      <th>Кол-во заемщиков с просрочкой</th>\n",
       "      <th>Доля заемщиков с просрочкой</th>\n",
       "    </tr>\n",
       "    <tr>\n",
       "      <th></th>\n",
       "      <th></th>\n",
       "      <th></th>\n",
       "      <th></th>\n",
       "      <th></th>\n",
       "    </tr>\n",
       "    <tr>\n",
       "      <th>children</th>\n",
       "      <th></th>\n",
       "      <th></th>\n",
       "      <th></th>\n",
       "      <th></th>\n",
       "    </tr>\n",
       "  </thead>\n",
       "  <tbody>\n",
       "    <tr>\n",
       "      <th>0</th>\n",
       "      <td>1</td>\n",
       "      <td>14091</td>\n",
       "      <td>1063</td>\n",
       "      <td>7.54%</td>\n",
       "    </tr>\n",
       "    <tr>\n",
       "      <th>1</th>\n",
       "      <td>1</td>\n",
       "      <td>4808</td>\n",
       "      <td>444</td>\n",
       "      <td>9.23%</td>\n",
       "    </tr>\n",
       "    <tr>\n",
       "      <th>2</th>\n",
       "      <td>1</td>\n",
       "      <td>2052</td>\n",
       "      <td>194</td>\n",
       "      <td>9.45%</td>\n",
       "    </tr>\n",
       "    <tr>\n",
       "      <th>3</th>\n",
       "      <td>1</td>\n",
       "      <td>330</td>\n",
       "      <td>27</td>\n",
       "      <td>8.18%</td>\n",
       "    </tr>\n",
       "    <tr>\n",
       "      <th>4</th>\n",
       "      <td>1</td>\n",
       "      <td>41</td>\n",
       "      <td>4</td>\n",
       "      <td>9.76%</td>\n",
       "    </tr>\n",
       "    <tr>\n",
       "      <th>5</th>\n",
       "      <td>0</td>\n",
       "      <td>9</td>\n",
       "      <td>nan</td>\n",
       "      <td>nan%</td>\n",
       "    </tr>\n",
       "  </tbody>\n",
       "</table>\n",
       "</div>"
      ],
      "text/plain": [
       "         Имеется просрочка Общее кол-во заемщиков  \\\n",
       "                                                    \n",
       "children                                            \n",
       "0                        1                  14091   \n",
       "1                        1                   4808   \n",
       "2                        1                   2052   \n",
       "3                        1                    330   \n",
       "4                        1                     41   \n",
       "5                        0                      9   \n",
       "\n",
       "         Кол-во заемщиков с просрочкой Доля заемщиков с просрочкой  \n",
       "                                                                    \n",
       "children                                                            \n",
       "0                                 1063                       7.54%  \n",
       "1                                  444                       9.23%  \n",
       "2                                  194                       9.45%  \n",
       "3                                   27                       8.18%  \n",
       "4                                    4                       9.76%  \n",
       "5                                  nan                        nan%  "
      ]
     },
     "metadata": {},
     "output_type": "display_data"
    }
   ],
   "source": [
    "children_pivot = data.pivot_table(index=['children'], values='debt', aggfunc=['max'])\n",
    "children_pivot['total_debt'] = data['children'].value_counts()\n",
    "\n",
    "children_pivot['if_dept_yes'] = data.groupby('debt')['children'].value_counts()[1]\n",
    "                                                                   \n",
    "children_pivot['share_if_dept_yes'] = children_pivot['if_dept_yes'] / children_pivot['total_debt'] * 100\n",
    "children_pivot['share_if_dept_yes'] = children_pivot['share_if_dept_yes'].map('{:,.2f}%'.format)\n",
    "\n",
    "children_pivot['if_dept_yes'] = children_pivot['if_dept_yes'].map('{:.0f}'.format)\n",
    "\n",
    "children_pivot = children_pivot.rename(columns={'max': 'Имеется просрочка', 'total_debt': 'Общее кол-во заемщиков', 'if_dept_yes': 'Кол-во заемщиков с просрочкой', 'share_if_dept_yes': 'Доля заемщиков с просрочкой', 'debt': ''})\n",
    " \n",
    "display(children_pivot)\n",
    "\n",
    "\n"
   ]
  },
  {
   "cell_type": "markdown",
   "id": "03b480c5",
   "metadata": {
    "deletable": false,
    "id": "3a6b99ec"
   },
   "source": [
    "**Вывод: Чаще всех возвращают кредит клиенты без детей - 0. Остальные категории возвращают кредит чуть реже, скорее всего это связано с тратами на детей. <font color='blue'>Данных для анализа с клиентами, у которых 5 детей, недостаточно.</font>** "
   ]
  },
  {
   "cell_type": "markdown",
   "id": "ed3c7c50",
   "metadata": {
    "deletable": false,
    "editable": false,
    "id": "97be82ca"
   },
   "source": [
    "#### 3.2 Есть ли зависимость между семейным положением и возвратом кредита в срок?"
   ]
  },
  {
   "cell_type": "code",
   "execution_count": 24,
   "id": "80a0d222",
   "metadata": {
    "deletable": false,
    "id": "dc3f7ee8"
   },
   "outputs": [
    {
     "data": {
      "text/html": [
       "<div>\n",
       "<style scoped>\n",
       "    .dataframe tbody tr th:only-of-type {\n",
       "        vertical-align: middle;\n",
       "    }\n",
       "\n",
       "    .dataframe tbody tr th {\n",
       "        vertical-align: top;\n",
       "    }\n",
       "\n",
       "    .dataframe thead th {\n",
       "        text-align: right;\n",
       "    }\n",
       "</style>\n",
       "<table border=\"1\" class=\"dataframe\">\n",
       "  <thead>\n",
       "    <tr style=\"text-align: right;\">\n",
       "      <th></th>\n",
       "      <th>Количество заемщиков</th>\n",
       "      <th>Количество должников</th>\n",
       "      <th>Доля должников</th>\n",
       "    </tr>\n",
       "    <tr>\n",
       "      <th>family_status</th>\n",
       "      <th></th>\n",
       "      <th></th>\n",
       "      <th></th>\n",
       "    </tr>\n",
       "  </thead>\n",
       "  <tbody>\n",
       "    <tr>\n",
       "      <th>Не женат / не замужем</th>\n",
       "      <td>2796</td>\n",
       "      <td>273</td>\n",
       "      <td>9.76%</td>\n",
       "    </tr>\n",
       "    <tr>\n",
       "      <th>в разводе</th>\n",
       "      <td>1189</td>\n",
       "      <td>84</td>\n",
       "      <td>7.06%</td>\n",
       "    </tr>\n",
       "    <tr>\n",
       "      <th>вдовец / вдова</th>\n",
       "      <td>951</td>\n",
       "      <td>63</td>\n",
       "      <td>6.62%</td>\n",
       "    </tr>\n",
       "    <tr>\n",
       "      <th>гражданский брак</th>\n",
       "      <td>4134</td>\n",
       "      <td>385</td>\n",
       "      <td>9.31%</td>\n",
       "    </tr>\n",
       "    <tr>\n",
       "      <th>женат / замужем</th>\n",
       "      <td>12261</td>\n",
       "      <td>927</td>\n",
       "      <td>7.56%</td>\n",
       "    </tr>\n",
       "  </tbody>\n",
       "</table>\n",
       "</div>"
      ],
      "text/plain": [
       "                       Количество заемщиков  Количество должников  \\\n",
       "family_status                                                       \n",
       "Не женат / не замужем                  2796                   273   \n",
       "в разводе                              1189                    84   \n",
       "вдовец / вдова                          951                    63   \n",
       "гражданский брак                       4134                   385   \n",
       "женат / замужем                       12261                   927   \n",
       "\n",
       "                      Доля должников  \n",
       "family_status                         \n",
       "Не женат / не замужем          9.76%  \n",
       "в разводе                      7.06%  \n",
       "вдовец / вдова                 6.62%  \n",
       "гражданский брак               9.31%  \n",
       "женат / замужем                7.56%  "
      ]
     },
     "metadata": {},
     "output_type": "display_data"
    }
   ],
   "source": [
    "import numpy as np\n",
    "def share_debt(x):\n",
    "    share = np.mean(x)\n",
    "    return '{:.2%}'.format(share)\n",
    "family_status_new = data.groupby('family_status')['debt'].agg(['count', 'sum', share_debt])\n",
    "family_status_new = family_status_new.rename(columns={'count': 'Количество заемщиков', 'sum': 'Количество должников', 'share_debt': 'Доля должников'})\n",
    "display(family_status_new)\n",
    "\n",
    "\n",
    "# Ваш код будет здесь. Вы можете создавать новые ячейки."
   ]
  },
  {
   "cell_type": "markdown",
   "id": "54f95489",
   "metadata": {
    "deletable": false,
    "id": "1cef7837"
   },
   "source": [
    "**Вывод: Чаще всех не возвращают кредит \"не женат/не замужем\", а чаще возвращают \"вдовец / вдова\". <font color='blue'>Но есть еще одна рисковая категория - те, кто состоят в гражданском браке. Обе категории избегают официального узаконения отношений или вообще не хотят серьезных отношений.</font>** "
   ]
  },
  {
   "cell_type": "markdown",
   "id": "68b3fc5f",
   "metadata": {
    "deletable": false,
    "editable": false,
    "id": "1e8b2fca"
   },
   "source": [
    "#### 3.3 Есть ли зависимость между уровнем дохода и возвратом кредита в срок?"
   ]
  },
  {
   "cell_type": "code",
   "execution_count": 25,
   "id": "a1f74669",
   "metadata": {
    "deletable": false,
    "id": "cd7e3720"
   },
   "outputs": [
    {
     "data": {
      "text/html": [
       "<div>\n",
       "<style scoped>\n",
       "    .dataframe tbody tr th:only-of-type {\n",
       "        vertical-align: middle;\n",
       "    }\n",
       "\n",
       "    .dataframe tbody tr th {\n",
       "        vertical-align: top;\n",
       "    }\n",
       "\n",
       "    .dataframe thead th {\n",
       "        text-align: right;\n",
       "    }\n",
       "</style>\n",
       "<table border=\"1\" class=\"dataframe\">\n",
       "  <thead>\n",
       "    <tr style=\"text-align: right;\">\n",
       "      <th></th>\n",
       "      <th>Количество заемщиков по уровню дохода</th>\n",
       "      <th>Количество должников</th>\n",
       "      <th>Доля должников</th>\n",
       "    </tr>\n",
       "    <tr>\n",
       "      <th>total_income_category</th>\n",
       "      <th></th>\n",
       "      <th></th>\n",
       "      <th></th>\n",
       "    </tr>\n",
       "  </thead>\n",
       "  <tbody>\n",
       "    <tr>\n",
       "      <th>A</th>\n",
       "      <td>25</td>\n",
       "      <td>2</td>\n",
       "      <td>8.00%</td>\n",
       "    </tr>\n",
       "    <tr>\n",
       "      <th>B</th>\n",
       "      <td>5014</td>\n",
       "      <td>354</td>\n",
       "      <td>7.06%</td>\n",
       "    </tr>\n",
       "    <tr>\n",
       "      <th>C</th>\n",
       "      <td>15921</td>\n",
       "      <td>1353</td>\n",
       "      <td>8.50%</td>\n",
       "    </tr>\n",
       "    <tr>\n",
       "      <th>D</th>\n",
       "      <td>349</td>\n",
       "      <td>21</td>\n",
       "      <td>6.02%</td>\n",
       "    </tr>\n",
       "    <tr>\n",
       "      <th>E</th>\n",
       "      <td>22</td>\n",
       "      <td>2</td>\n",
       "      <td>9.09%</td>\n",
       "    </tr>\n",
       "  </tbody>\n",
       "</table>\n",
       "</div>"
      ],
      "text/plain": [
       "                       Количество заемщиков по уровню дохода  \\\n",
       "total_income_category                                          \n",
       "A                                                         25   \n",
       "B                                                       5014   \n",
       "C                                                      15921   \n",
       "D                                                        349   \n",
       "E                                                         22   \n",
       "\n",
       "                       Количество должников Доля должников  \n",
       "total_income_category                                       \n",
       "A                                         2          8.00%  \n",
       "B                                       354          7.06%  \n",
       "C                                      1353          8.50%  \n",
       "D                                        21          6.02%  \n",
       "E                                         2          9.09%  "
      ]
     },
     "metadata": {},
     "output_type": "display_data"
    }
   ],
   "source": [
    "import numpy as np\n",
    "def share_debt(x):\n",
    "    share = np.mean(x)\n",
    "    return '{:.2%}'.format(share)\n",
    "total_income_category_new = data.groupby('total_income_category')['debt'].agg(['count', 'sum', share_debt])\n",
    "total_income_category_new = total_income_category_new.rename(columns={'count': 'Количество заемщиков по уровню дохода', 'sum': 'Количество должников', 'share_debt': 'Доля должников'})\n",
    "display(total_income_category_new)\n",
    "\n",
    "\n",
    "\n",
    "# Ваш код будет здесь. Вы можете создавать новые ячейки."
   ]
  },
  {
   "cell_type": "markdown",
   "id": "2726b094",
   "metadata": {
    "deletable": false,
    "id": "e8593def"
   },
   "source": [
    "**Вывод:*По 4 \"income_type\" нельзя сделать вывод, так как таких людей мало: безработный, в декрете,студент, предприниматель. студент. Скорее всего первым трем типам нет необходимости в получении кредитов, а предприниматели не целевая аудитория финансовой организации. Проанализировав остальные категории, можно сделать вывод, что чаще всего возвращают кредит пенсионеры, а реже всего сотрудники, но это самый популярный тип, скорее всего это ядро ЦА финансовой организации. Что касается доходов, то в данной выборке типов они не сильно разнятся и поэтому не влияют на возврат/невозврат кредита.<font color='blue'>Больше всего должников в категории E, но она не самая многочисленная, пэтому вывод может быть не точным. Вторая категория должников - С, но она и самая многочисленная, скорее всего это целевая аудитория и этот процент должников легко компенсируются большим количеством добросовестных заемщиков. </font>* "
   ]
  },
  {
   "cell_type": "markdown",
   "id": "a50ac97b",
   "metadata": {
    "deletable": false,
    "editable": false,
    "id": "99ecbd1f"
   },
   "source": [
    "#### 3.4 Как разные цели кредита влияют на его возврат в срок?"
   ]
  },
  {
   "cell_type": "code",
   "execution_count": 26,
   "id": "819425bf",
   "metadata": {
    "deletable": false,
    "id": "2b687290"
   },
   "outputs": [
    {
     "data": {
      "text/html": [
       "<div>\n",
       "<style scoped>\n",
       "    .dataframe tbody tr th:only-of-type {\n",
       "        vertical-align: middle;\n",
       "    }\n",
       "\n",
       "    .dataframe tbody tr th {\n",
       "        vertical-align: top;\n",
       "    }\n",
       "\n",
       "    .dataframe thead th {\n",
       "        text-align: right;\n",
       "    }\n",
       "</style>\n",
       "<table border=\"1\" class=\"dataframe\">\n",
       "  <thead>\n",
       "    <tr style=\"text-align: right;\">\n",
       "      <th></th>\n",
       "      <th>Количество заемщиков по целям</th>\n",
       "      <th>Количество должников по целям</th>\n",
       "      <th>Доля должников по целям</th>\n",
       "    </tr>\n",
       "    <tr>\n",
       "      <th>purpose_category</th>\n",
       "      <th></th>\n",
       "      <th></th>\n",
       "      <th></th>\n",
       "    </tr>\n",
       "  </thead>\n",
       "  <tbody>\n",
       "    <tr>\n",
       "      <th>операции с автомобилем</th>\n",
       "      <td>4279</td>\n",
       "      <td>400</td>\n",
       "      <td>9.35%</td>\n",
       "    </tr>\n",
       "    <tr>\n",
       "      <th>операции с недвижимостью</th>\n",
       "      <td>10751</td>\n",
       "      <td>780</td>\n",
       "      <td>7.26%</td>\n",
       "    </tr>\n",
       "    <tr>\n",
       "      <th>получение образования</th>\n",
       "      <td>3988</td>\n",
       "      <td>369</td>\n",
       "      <td>9.25%</td>\n",
       "    </tr>\n",
       "    <tr>\n",
       "      <th>проведение свадьбы</th>\n",
       "      <td>2313</td>\n",
       "      <td>183</td>\n",
       "      <td>7.91%</td>\n",
       "    </tr>\n",
       "  </tbody>\n",
       "</table>\n",
       "</div>"
      ],
      "text/plain": [
       "                          Количество заемщиков по целям  \\\n",
       "purpose_category                                          \n",
       "операции с автомобилем                             4279   \n",
       "операции с недвижимостью                          10751   \n",
       "получение образования                              3988   \n",
       "проведение свадьбы                                 2313   \n",
       "\n",
       "                          Количество должников по целям  \\\n",
       "purpose_category                                          \n",
       "операции с автомобилем                              400   \n",
       "операции с недвижимостью                            780   \n",
       "получение образования                               369   \n",
       "проведение свадьбы                                  183   \n",
       "\n",
       "                         Доля должников по целям  \n",
       "purpose_category                                  \n",
       "операции с автомобилем                     9.35%  \n",
       "операции с недвижимостью                   7.26%  \n",
       "получение образования                      9.25%  \n",
       "проведение свадьбы                         7.91%  "
      ]
     },
     "metadata": {},
     "output_type": "display_data"
    }
   ],
   "source": [
    "import numpy as np\n",
    "def share_debt(x):\n",
    "    share = np.mean(x)\n",
    "    return '{:.2%}'.format(share)\n",
    "purpose_category_new = data.groupby('purpose_category')['debt'].agg(['count', 'sum', share_debt])\n",
    "purpose_category_new = purpose_category_new.rename(columns={'count': 'Количество заемщиков по целям', 'sum': 'Количество должников по целям', 'share_debt': 'Доля должников по целям'})\n",
    "display(purpose_category_new)\n",
    "\n",
    "\n",
    "# Ваш код будет здесь. Вы можете создавать новые ячейки."
   ]
  },
  {
   "cell_type": "markdown",
   "id": "7dca3c83",
   "metadata": {
    "deletable": false,
    "id": "b4bb2ce6"
   },
   "source": [
    "**Вывод: Из этих данных примерно можно увидеть, что чаще всего возвращают, те кто берет кредит на жилье, а реже те, кто берет на образование и автомобили.** "
   ]
  },
  {
   "cell_type": "markdown",
   "id": "65b2df03",
   "metadata": {
    "deletable": false,
    "editable": false,
    "id": "09c3ac4c"
   },
   "source": [
    "#### 3.5 Приведите возможные причины появления пропусков в исходных данных."
   ]
  },
  {
   "cell_type": "markdown",
   "id": "6fa0748e",
   "metadata": {
    "deletable": false,
    "id": "9da2ceda"
   },
   "source": [
    "*Ответ:Два столбца имеют пропуски - days_employed и total_income. скорее всего основная причина - если заемщик никогда не работал.* "
   ]
  },
  {
   "cell_type": "markdown",
   "id": "d52aebdf",
   "metadata": {
    "deletable": false,
    "editable": false,
    "id": "7b0487d6"
   },
   "source": [
    "#### 3.6 Объясните, почему заполнить пропуски медианным значением — лучшее решение для количественных переменных."
   ]
  },
  {
   "cell_type": "markdown",
   "id": "c813a73a",
   "metadata": {
    "deletable": false,
    "id": "7ecf2b8e"
   },
   "source": [
    "*Ответ: Например в доходах может быть сущетсвенная разница и среднее значение будет искажать информацию.<font color='blue'>Так как не все данные распределены равномерно, есть аномальные значения, поэтому медиана будет показывать более точное значение. </font>* "
   ]
  },
  {
   "cell_type": "markdown",
   "id": "19a33808",
   "metadata": {
    "deletable": false,
    "editable": false,
    "id": "6db5255a"
   },
   "source": [
    "### Шаг 4: общий вывод."
   ]
  },
  {
   "cell_type": "markdown",
   "id": "71565543",
   "metadata": {
    "deletable": false,
    "id": "bad65432"
   },
   "source": [
    "Идеальный заемщик - ЦА финансовой организации - \"сотрудник\", у которого нет детей, женат/замужем или вдовец/вдова, и основная цель - приобретение жилья.<font color='blue'> Для минимизации рисков невыплат среди заемщиков финансовой организации следует сосредоточить . </font> "
   ]
  }
 ],
 "metadata": {
  "ExecuteTimeLog": [
   {
    "duration": 545,
    "start_time": "2022-11-10T17:12:58.375Z"
   },
   {
    "duration": 21,
    "start_time": "2022-11-10T17:13:17.306Z"
   },
   {
    "duration": 16,
    "start_time": "2022-11-10T17:13:41.786Z"
   },
   {
    "duration": 10,
    "start_time": "2022-11-10T17:13:51.354Z"
   },
   {
    "duration": 34,
    "start_time": "2022-11-10T17:13:58.766Z"
   },
   {
    "duration": 3,
    "start_time": "2022-11-10T17:14:02.957Z"
   },
   {
    "duration": 7,
    "start_time": "2022-11-10T17:14:03.628Z"
   },
   {
    "duration": 5,
    "start_time": "2022-11-10T17:14:04.747Z"
   },
   {
    "duration": 8,
    "start_time": "2022-11-10T17:14:07.635Z"
   },
   {
    "duration": 5,
    "start_time": "2022-11-10T17:14:08.955Z"
   },
   {
    "duration": 35,
    "start_time": "2022-11-10T17:14:11.742Z"
   },
   {
    "duration": 10,
    "start_time": "2022-11-10T17:14:15.195Z"
   },
   {
    "duration": 4,
    "start_time": "2022-11-10T17:14:18.331Z"
   },
   {
    "duration": 10,
    "start_time": "2022-11-10T17:14:21.845Z"
   },
   {
    "duration": 21,
    "start_time": "2022-11-10T17:14:26.225Z"
   },
   {
    "duration": 17,
    "start_time": "2022-11-10T17:14:28.860Z"
   },
   {
    "duration": 3,
    "start_time": "2022-11-10T17:14:30.553Z"
   },
   {
    "duration": 13,
    "start_time": "2022-11-10T17:14:32.405Z"
   },
   {
    "duration": 5,
    "start_time": "2022-11-10T17:14:33.814Z"
   },
   {
    "duration": 3,
    "start_time": "2022-11-10T17:14:45.788Z"
   },
   {
    "duration": 8,
    "start_time": "2022-11-10T17:14:46.372Z"
   },
   {
    "duration": 77,
    "start_time": "2022-11-10T17:41:02.355Z"
   },
   {
    "duration": 5,
    "start_time": "2022-11-10T17:41:35.420Z"
   },
   {
    "duration": 1041,
    "start_time": "2022-11-10T17:45:18.268Z"
   },
   {
    "duration": 5,
    "start_time": "2022-11-10T17:45:29.493Z"
   },
   {
    "duration": 4,
    "start_time": "2022-11-10T17:45:58.622Z"
   },
   {
    "duration": 11,
    "start_time": "2022-11-10T17:51:04.696Z"
   },
   {
    "duration": 6,
    "start_time": "2022-11-10T17:51:14.264Z"
   },
   {
    "duration": 5,
    "start_time": "2022-11-10T17:51:19.514Z"
   },
   {
    "duration": 5,
    "start_time": "2022-11-10T17:51:24.571Z"
   },
   {
    "duration": 9,
    "start_time": "2022-11-10T17:51:33.973Z"
   },
   {
    "duration": 5,
    "start_time": "2022-11-10T17:53:17.263Z"
   },
   {
    "duration": 7,
    "start_time": "2022-11-10T17:53:32.936Z"
   },
   {
    "duration": 12,
    "start_time": "2022-11-10T17:58:39.820Z"
   },
   {
    "duration": 10,
    "start_time": "2022-11-10T17:58:58.160Z"
   },
   {
    "duration": 6,
    "start_time": "2022-11-10T17:59:08.404Z"
   },
   {
    "duration": 9,
    "start_time": "2022-11-10T17:59:28.282Z"
   },
   {
    "duration": 7,
    "start_time": "2022-11-10T18:04:03.781Z"
   },
   {
    "duration": 6,
    "start_time": "2022-11-10T18:08:49.718Z"
   },
   {
    "duration": 73,
    "start_time": "2022-11-10T18:09:22.530Z"
   },
   {
    "duration": 78,
    "start_time": "2022-11-10T18:09:33.827Z"
   },
   {
    "duration": 6,
    "start_time": "2022-11-10T18:09:42.230Z"
   },
   {
    "duration": 11,
    "start_time": "2022-11-10T18:10:15.031Z"
   },
   {
    "duration": 7,
    "start_time": "2022-11-10T18:13:38.729Z"
   },
   {
    "duration": 7,
    "start_time": "2022-11-10T18:15:27.455Z"
   },
   {
    "duration": 7,
    "start_time": "2022-11-10T18:15:48.731Z"
   },
   {
    "duration": 9,
    "start_time": "2022-11-10T18:16:24.274Z"
   },
   {
    "duration": 8,
    "start_time": "2022-11-10T18:16:59.382Z"
   },
   {
    "duration": 7,
    "start_time": "2022-11-10T18:17:54.409Z"
   },
   {
    "duration": 13,
    "start_time": "2022-11-10T18:18:20.550Z"
   },
   {
    "duration": 13,
    "start_time": "2022-11-10T18:34:20.570Z"
   },
   {
    "duration": 13,
    "start_time": "2022-11-10T18:34:34.679Z"
   },
   {
    "duration": 13,
    "start_time": "2022-11-10T18:35:36.864Z"
   },
   {
    "duration": 13,
    "start_time": "2022-11-10T18:36:41.167Z"
   },
   {
    "duration": 1310,
    "start_time": "2022-11-10T18:37:42.344Z"
   },
   {
    "duration": 1100,
    "start_time": "2022-11-10T18:37:55.263Z"
   },
   {
    "duration": 17,
    "start_time": "2022-11-10T18:38:14.021Z"
   },
   {
    "duration": 13,
    "start_time": "2022-11-10T18:38:25.796Z"
   },
   {
    "duration": 11,
    "start_time": "2022-11-10T18:39:14.827Z"
   },
   {
    "duration": 13,
    "start_time": "2022-11-10T18:39:29.810Z"
   },
   {
    "duration": 11,
    "start_time": "2022-11-10T18:41:50.730Z"
   },
   {
    "duration": 7,
    "start_time": "2022-11-10T18:42:28.672Z"
   },
   {
    "duration": 8,
    "start_time": "2022-11-10T18:43:39.985Z"
   },
   {
    "duration": 7,
    "start_time": "2022-11-10T18:43:47.942Z"
   },
   {
    "duration": 8,
    "start_time": "2022-11-10T18:44:06.926Z"
   },
   {
    "duration": 11,
    "start_time": "2022-11-10T18:44:58.262Z"
   },
   {
    "duration": 12,
    "start_time": "2022-11-10T18:45:42.974Z"
   },
   {
    "duration": 12,
    "start_time": "2022-11-10T18:45:50.790Z"
   },
   {
    "duration": 103,
    "start_time": "2022-11-10T18:46:44.948Z"
   },
   {
    "duration": 72,
    "start_time": "2022-11-10T18:46:52.367Z"
   },
   {
    "duration": 71,
    "start_time": "2022-11-10T18:46:58.475Z"
   },
   {
    "duration": 66,
    "start_time": "2022-11-10T18:47:14.854Z"
   },
   {
    "duration": 8,
    "start_time": "2022-11-10T18:47:19.861Z"
   },
   {
    "duration": 8,
    "start_time": "2022-11-10T18:47:26.823Z"
   },
   {
    "duration": 8,
    "start_time": "2022-11-10T18:47:39.551Z"
   },
   {
    "duration": 13,
    "start_time": "2022-11-10T18:48:59.929Z"
   },
   {
    "duration": 71,
    "start_time": "2022-11-10T18:50:16.416Z"
   },
   {
    "duration": 8,
    "start_time": "2022-11-10T18:50:20.981Z"
   },
   {
    "duration": 15,
    "start_time": "2022-11-10T18:54:42.887Z"
   },
   {
    "duration": 12,
    "start_time": "2022-11-10T18:55:01.286Z"
   },
   {
    "duration": 14,
    "start_time": "2022-11-10T18:55:15.620Z"
   },
   {
    "duration": 22,
    "start_time": "2022-11-10T18:55:45.995Z"
   },
   {
    "duration": 13,
    "start_time": "2022-11-10T18:56:04.837Z"
   },
   {
    "duration": 14,
    "start_time": "2022-11-10T18:56:16.720Z"
   },
   {
    "duration": 16,
    "start_time": "2022-11-10T18:56:42.343Z"
   },
   {
    "duration": 17,
    "start_time": "2022-11-10T18:56:56.985Z"
   },
   {
    "duration": 16,
    "start_time": "2022-11-10T18:57:26.543Z"
   },
   {
    "duration": 15,
    "start_time": "2022-11-10T18:57:33.804Z"
   },
   {
    "duration": 15,
    "start_time": "2022-11-10T18:57:47.137Z"
   },
   {
    "duration": 14,
    "start_time": "2022-11-10T18:58:04.672Z"
   },
   {
    "duration": 92,
    "start_time": "2022-11-10T19:08:20.013Z"
   },
   {
    "duration": 75,
    "start_time": "2022-11-10T19:08:28.714Z"
   },
   {
    "duration": 4,
    "start_time": "2022-11-10T19:08:39.651Z"
   },
   {
    "duration": 13,
    "start_time": "2022-11-10T19:08:43.145Z"
   },
   {
    "duration": 13,
    "start_time": "2022-11-10T19:08:56.680Z"
   },
   {
    "duration": 13,
    "start_time": "2022-11-10T19:09:06.386Z"
   },
   {
    "duration": 8,
    "start_time": "2022-11-10T19:09:38.509Z"
   },
   {
    "duration": 9,
    "start_time": "2022-11-10T19:09:50.249Z"
   },
   {
    "duration": 21,
    "start_time": "2022-11-10T19:10:01.972Z"
   },
   {
    "duration": 11,
    "start_time": "2022-11-10T19:12:12.894Z"
   },
   {
    "duration": 8,
    "start_time": "2022-11-10T19:12:35.318Z"
   },
   {
    "duration": 7,
    "start_time": "2022-11-10T19:12:44.715Z"
   },
   {
    "duration": 76,
    "start_time": "2022-11-10T19:13:46.669Z"
   },
   {
    "duration": 11,
    "start_time": "2022-11-10T19:13:55.550Z"
   },
   {
    "duration": 9,
    "start_time": "2022-11-10T19:17:44.113Z"
   },
   {
    "duration": 15,
    "start_time": "2022-11-10T19:18:44.190Z"
   },
   {
    "duration": 12,
    "start_time": "2022-11-10T19:18:57.750Z"
   },
   {
    "duration": 14,
    "start_time": "2022-11-10T19:19:39.244Z"
   },
   {
    "duration": 13,
    "start_time": "2022-11-10T19:19:47.610Z"
   },
   {
    "duration": 16,
    "start_time": "2022-11-10T19:25:00.181Z"
   },
   {
    "duration": 15,
    "start_time": "2022-11-10T19:25:14.207Z"
   },
   {
    "duration": 17,
    "start_time": "2022-11-10T19:26:00.534Z"
   },
   {
    "duration": 16,
    "start_time": "2022-11-10T19:26:26.252Z"
   },
   {
    "duration": 13,
    "start_time": "2022-11-10T19:29:09.810Z"
   },
   {
    "duration": 8,
    "start_time": "2022-11-10T19:30:09.825Z"
   },
   {
    "duration": 9,
    "start_time": "2022-11-10T19:30:36.138Z"
   },
   {
    "duration": 45,
    "start_time": "2022-11-11T16:16:59.414Z"
   },
   {
    "duration": 6,
    "start_time": "2022-11-11T16:17:09.853Z"
   },
   {
    "duration": 7,
    "start_time": "2022-11-11T16:17:16.406Z"
   },
   {
    "duration": 7,
    "start_time": "2022-11-11T16:17:19.168Z"
   },
   {
    "duration": 6,
    "start_time": "2022-11-11T16:17:28.053Z"
   },
   {
    "duration": 7,
    "start_time": "2022-11-11T16:17:37.859Z"
   },
   {
    "duration": 7,
    "start_time": "2022-11-11T16:17:45.855Z"
   },
   {
    "duration": 7,
    "start_time": "2022-11-11T16:18:07.016Z"
   },
   {
    "duration": 6,
    "start_time": "2022-11-11T16:18:11.363Z"
   },
   {
    "duration": 7,
    "start_time": "2022-11-11T16:19:08.193Z"
   },
   {
    "duration": 6,
    "start_time": "2022-11-11T16:20:53.750Z"
   },
   {
    "duration": 7,
    "start_time": "2022-11-11T16:20:58.552Z"
   },
   {
    "duration": 7,
    "start_time": "2022-11-11T16:21:09.767Z"
   },
   {
    "duration": 7,
    "start_time": "2022-11-11T16:22:06.257Z"
   },
   {
    "duration": 7,
    "start_time": "2022-11-11T16:22:07.377Z"
   },
   {
    "duration": 452,
    "start_time": "2022-11-11T16:22:31.295Z"
   },
   {
    "duration": 20,
    "start_time": "2022-11-11T16:22:31.748Z"
   },
   {
    "duration": 14,
    "start_time": "2022-11-11T16:22:32.060Z"
   },
   {
    "duration": 9,
    "start_time": "2022-11-11T16:22:32.798Z"
   },
   {
    "duration": 31,
    "start_time": "2022-11-11T16:22:33.160Z"
   },
   {
    "duration": 3,
    "start_time": "2022-11-11T16:22:33.701Z"
   },
   {
    "duration": 8,
    "start_time": "2022-11-11T16:22:34.105Z"
   },
   {
    "duration": 4,
    "start_time": "2022-11-11T16:22:34.706Z"
   },
   {
    "duration": 6,
    "start_time": "2022-11-11T16:22:35.077Z"
   },
   {
    "duration": 5,
    "start_time": "2022-11-11T16:22:35.448Z"
   },
   {
    "duration": 31,
    "start_time": "2022-11-11T16:22:36.007Z"
   },
   {
    "duration": 9,
    "start_time": "2022-11-11T16:22:36.390Z"
   },
   {
    "duration": 4,
    "start_time": "2022-11-11T16:22:36.944Z"
   },
   {
    "duration": 11,
    "start_time": "2022-11-11T16:22:37.525Z"
   },
   {
    "duration": 19,
    "start_time": "2022-11-11T16:22:37.901Z"
   },
   {
    "duration": 17,
    "start_time": "2022-11-11T16:22:38.089Z"
   },
   {
    "duration": 3,
    "start_time": "2022-11-11T16:22:38.726Z"
   },
   {
    "duration": 8,
    "start_time": "2022-11-11T16:22:38.921Z"
   },
   {
    "duration": 7,
    "start_time": "2022-11-11T16:22:39.327Z"
   },
   {
    "duration": 3,
    "start_time": "2022-11-11T16:22:39.747Z"
   },
   {
    "duration": 10,
    "start_time": "2022-11-11T16:22:39.938Z"
   },
   {
    "duration": 7,
    "start_time": "2022-11-11T16:22:40.548Z"
   },
   {
    "duration": 2,
    "start_time": "2022-11-11T16:22:41.138Z"
   },
   {
    "duration": 27,
    "start_time": "2022-11-11T16:24:09.451Z"
   },
   {
    "duration": 8,
    "start_time": "2022-11-11T16:24:17.860Z"
   },
   {
    "duration": 7,
    "start_time": "2022-11-11T16:24:25.635Z"
   },
   {
    "duration": 10,
    "start_time": "2022-11-11T16:34:00.302Z"
   },
   {
    "duration": 86,
    "start_time": "2022-11-11T16:34:06.148Z"
   },
   {
    "duration": 7,
    "start_time": "2022-11-11T16:34:19.385Z"
   },
   {
    "duration": 757,
    "start_time": "2022-11-12T12:46:21.600Z"
   },
   {
    "duration": 35,
    "start_time": "2022-11-12T12:46:22.360Z"
   },
   {
    "duration": 17,
    "start_time": "2022-11-12T12:46:22.398Z"
   },
   {
    "duration": 15,
    "start_time": "2022-11-12T12:46:23.191Z"
   },
   {
    "duration": 49,
    "start_time": "2022-11-12T12:46:23.672Z"
   },
   {
    "duration": 4,
    "start_time": "2022-11-12T12:46:24.329Z"
   },
   {
    "duration": 9,
    "start_time": "2022-11-12T12:46:24.751Z"
   },
   {
    "duration": 5,
    "start_time": "2022-11-12T12:46:25.418Z"
   },
   {
    "duration": 8,
    "start_time": "2022-11-12T12:46:25.875Z"
   },
   {
    "duration": 6,
    "start_time": "2022-11-12T12:46:26.300Z"
   },
   {
    "duration": 36,
    "start_time": "2022-11-12T12:46:26.995Z"
   },
   {
    "duration": 10,
    "start_time": "2022-11-12T12:46:27.404Z"
   },
   {
    "duration": 4,
    "start_time": "2022-11-12T12:46:28.062Z"
   },
   {
    "duration": 15,
    "start_time": "2022-11-12T12:46:28.688Z"
   },
   {
    "duration": 22,
    "start_time": "2022-11-12T12:46:29.127Z"
   },
   {
    "duration": 19,
    "start_time": "2022-11-12T12:46:29.318Z"
   },
   {
    "duration": 4,
    "start_time": "2022-11-12T12:46:30.046Z"
   },
   {
    "duration": 11,
    "start_time": "2022-11-12T12:46:30.262Z"
   },
   {
    "duration": 7,
    "start_time": "2022-11-12T12:46:32.049Z"
   },
   {
    "duration": 3,
    "start_time": "2022-11-12T12:46:32.648Z"
   },
   {
    "duration": 10,
    "start_time": "2022-11-12T12:46:32.849Z"
   },
   {
    "duration": 9,
    "start_time": "2022-11-12T12:46:34.891Z"
   },
   {
    "duration": 3,
    "start_time": "2022-11-12T12:46:37.167Z"
   },
   {
    "duration": 68,
    "start_time": "2022-11-12T12:52:32.606Z"
   },
   {
    "duration": 10,
    "start_time": "2022-11-12T12:53:40.104Z"
   },
   {
    "duration": 12,
    "start_time": "2022-11-12T12:53:54.624Z"
   },
   {
    "duration": 10,
    "start_time": "2022-11-12T14:49:33.832Z"
   },
   {
    "duration": 8,
    "start_time": "2022-11-12T14:51:03.790Z"
   },
   {
    "duration": 17,
    "start_time": "2022-11-12T14:51:55.762Z"
   },
   {
    "duration": 9,
    "start_time": "2022-11-12T14:53:38.976Z"
   },
   {
    "duration": 13,
    "start_time": "2022-11-12T14:55:35.334Z"
   },
   {
    "duration": 16,
    "start_time": "2022-11-12T14:58:22.344Z"
   },
   {
    "duration": 16,
    "start_time": "2022-11-12T15:05:03.643Z"
   },
   {
    "duration": 17,
    "start_time": "2022-11-12T15:06:59.790Z"
   },
   {
    "duration": 15,
    "start_time": "2022-11-12T15:08:46.360Z"
   },
   {
    "duration": 14,
    "start_time": "2022-11-12T15:09:09.675Z"
   },
   {
    "duration": 15,
    "start_time": "2022-11-12T15:09:20.089Z"
   },
   {
    "duration": 15,
    "start_time": "2022-11-12T15:11:40.561Z"
   },
   {
    "duration": 11,
    "start_time": "2022-11-12T15:12:41.090Z"
   },
   {
    "duration": 13,
    "start_time": "2022-11-12T15:13:19.530Z"
   },
   {
    "duration": 10,
    "start_time": "2022-11-12T15:23:35.697Z"
   },
   {
    "duration": 12,
    "start_time": "2022-11-12T15:27:43.887Z"
   },
   {
    "duration": 11,
    "start_time": "2022-11-12T15:28:49.874Z"
   },
   {
    "duration": 37,
    "start_time": "2022-11-12T15:30:01.618Z"
   },
   {
    "duration": 20,
    "start_time": "2022-11-12T15:30:17.556Z"
   },
   {
    "duration": 79,
    "start_time": "2022-11-12T15:30:41.892Z"
   },
   {
    "duration": 16,
    "start_time": "2022-11-12T15:30:53.452Z"
   },
   {
    "duration": 15,
    "start_time": "2022-11-12T15:38:39.819Z"
   },
   {
    "duration": 13,
    "start_time": "2022-11-12T15:40:42.860Z"
   },
   {
    "duration": 28,
    "start_time": "2022-11-12T15:42:20.712Z"
   },
   {
    "duration": 18,
    "start_time": "2022-11-12T15:45:56.167Z"
   },
   {
    "duration": 15,
    "start_time": "2022-11-12T15:46:44.800Z"
   },
   {
    "duration": 8,
    "start_time": "2022-11-12T15:48:39.348Z"
   },
   {
    "duration": 45,
    "start_time": "2022-11-12T15:48:59.665Z"
   },
   {
    "duration": 47,
    "start_time": "2022-11-12T15:49:34.381Z"
   },
   {
    "duration": 16,
    "start_time": "2022-11-12T15:49:45.446Z"
   },
   {
    "duration": 24,
    "start_time": "2022-11-12T15:52:44.802Z"
   },
   {
    "duration": 17,
    "start_time": "2022-11-12T15:53:53.195Z"
   },
   {
    "duration": 11,
    "start_time": "2022-11-12T15:59:37.073Z"
   },
   {
    "duration": 14,
    "start_time": "2022-11-12T15:59:55.279Z"
   },
   {
    "duration": 13,
    "start_time": "2022-11-12T16:00:14.906Z"
   },
   {
    "duration": 11,
    "start_time": "2022-11-12T16:01:10.195Z"
   },
   {
    "duration": 10,
    "start_time": "2022-11-12T16:01:14.201Z"
   },
   {
    "duration": 25,
    "start_time": "2022-11-12T16:01:34.264Z"
   },
   {
    "duration": 22,
    "start_time": "2022-11-12T16:02:25.398Z"
   },
   {
    "duration": 22,
    "start_time": "2022-11-12T16:03:54.250Z"
   },
   {
    "duration": 11,
    "start_time": "2022-11-12T16:04:47.332Z"
   },
   {
    "duration": 11,
    "start_time": "2022-11-12T16:04:53.122Z"
   },
   {
    "duration": 11,
    "start_time": "2022-11-12T16:04:56.992Z"
   },
   {
    "duration": 20,
    "start_time": "2022-11-12T16:05:10.225Z"
   },
   {
    "duration": 19,
    "start_time": "2022-11-12T16:06:37.236Z"
   },
   {
    "duration": 9,
    "start_time": "2022-11-12T16:06:42.268Z"
   },
   {
    "duration": 881,
    "start_time": "2022-11-12T16:10:12.181Z"
   },
   {
    "duration": 12,
    "start_time": "2022-11-12T16:12:21.579Z"
   },
   {
    "duration": 84,
    "start_time": "2022-11-13T14:39:29.510Z"
   },
   {
    "duration": 9,
    "start_time": "2022-11-13T14:40:23.378Z"
   },
   {
    "duration": 27,
    "start_time": "2022-11-13T14:41:03.756Z"
   },
   {
    "duration": 8,
    "start_time": "2022-11-13T14:42:22.522Z"
   },
   {
    "duration": 11,
    "start_time": "2022-11-13T14:43:32.989Z"
   },
   {
    "duration": 10,
    "start_time": "2022-11-13T14:46:05.774Z"
   },
   {
    "duration": 682,
    "start_time": "2022-11-13T14:46:54.533Z"
   },
   {
    "duration": 22,
    "start_time": "2022-11-13T14:48:13.765Z"
   },
   {
    "duration": 22,
    "start_time": "2022-11-13T14:48:22.709Z"
   },
   {
    "duration": 23,
    "start_time": "2022-11-13T14:48:29.189Z"
   },
   {
    "duration": 23,
    "start_time": "2022-11-13T14:48:36.061Z"
   },
   {
    "duration": 20,
    "start_time": "2022-11-13T14:48:57.976Z"
   },
   {
    "duration": 21,
    "start_time": "2022-11-13T14:56:59.017Z"
   },
   {
    "duration": 21,
    "start_time": "2022-11-13T14:57:51.594Z"
   },
   {
    "duration": 36,
    "start_time": "2022-11-13T14:59:08.034Z"
   },
   {
    "duration": 30,
    "start_time": "2022-11-13T14:59:46.288Z"
   },
   {
    "duration": 22,
    "start_time": "2022-11-13T15:00:02.970Z"
   },
   {
    "duration": 48,
    "start_time": "2022-11-13T15:05:54.069Z"
   },
   {
    "duration": 18,
    "start_time": "2022-11-13T15:07:38.915Z"
   },
   {
    "duration": 23,
    "start_time": "2022-11-13T15:08:32.284Z"
   },
   {
    "duration": 1213,
    "start_time": "2022-11-13T15:08:55.717Z"
   },
   {
    "duration": 1314,
    "start_time": "2022-11-13T15:08:59.527Z"
   },
   {
    "duration": 15,
    "start_time": "2022-11-13T15:11:25.111Z"
   },
   {
    "duration": 20,
    "start_time": "2022-11-13T15:12:55.336Z"
   },
   {
    "duration": 85,
    "start_time": "2022-11-13T15:14:01.918Z"
   },
   {
    "duration": 27,
    "start_time": "2022-11-13T15:14:12.999Z"
   },
   {
    "duration": 26,
    "start_time": "2022-11-13T15:16:15.439Z"
   },
   {
    "duration": 1261,
    "start_time": "2022-11-13T15:16:27.183Z"
   },
   {
    "duration": 21,
    "start_time": "2022-11-13T15:16:39.483Z"
   },
   {
    "duration": 331,
    "start_time": "2022-11-13T15:16:50.387Z"
   },
   {
    "duration": 311,
    "start_time": "2022-11-13T15:18:35.171Z"
   },
   {
    "duration": 82,
    "start_time": "2022-11-13T15:19:36.338Z"
   },
   {
    "duration": 80,
    "start_time": "2022-11-13T15:19:53.996Z"
   },
   {
    "duration": 93,
    "start_time": "2022-11-13T15:20:10.974Z"
   },
   {
    "duration": 83,
    "start_time": "2022-11-13T15:20:16.648Z"
   },
   {
    "duration": 26,
    "start_time": "2022-11-13T15:22:01.464Z"
   },
   {
    "duration": 75,
    "start_time": "2022-11-13T15:26:11.223Z"
   },
   {
    "duration": 29,
    "start_time": "2022-11-13T15:26:20.540Z"
   },
   {
    "duration": 92,
    "start_time": "2022-11-13T15:26:47.838Z"
   },
   {
    "duration": 15,
    "start_time": "2022-11-13T15:27:03.085Z"
   },
   {
    "duration": 17,
    "start_time": "2022-11-13T15:27:07.069Z"
   },
   {
    "duration": 21,
    "start_time": "2022-11-13T15:29:09.788Z"
   },
   {
    "duration": 17,
    "start_time": "2022-11-13T15:29:20.368Z"
   },
   {
    "duration": 23,
    "start_time": "2022-11-13T15:32:48.015Z"
   },
   {
    "duration": 24,
    "start_time": "2022-11-13T15:32:57.063Z"
   },
   {
    "duration": 28,
    "start_time": "2022-11-13T15:33:31.789Z"
   },
   {
    "duration": 8,
    "start_time": "2022-11-13T15:34:23.517Z"
   },
   {
    "duration": 10,
    "start_time": "2022-11-13T15:34:50.366Z"
   },
   {
    "duration": 23,
    "start_time": "2022-11-13T15:36:39.441Z"
   },
   {
    "duration": 23,
    "start_time": "2022-11-13T15:37:29.821Z"
   },
   {
    "duration": 20,
    "start_time": "2022-11-13T15:37:49.316Z"
   },
   {
    "duration": 21,
    "start_time": "2022-11-13T15:38:44.964Z"
   },
   {
    "duration": 31,
    "start_time": "2022-11-13T15:39:00.263Z"
   },
   {
    "duration": 9,
    "start_time": "2022-11-13T15:39:39.621Z"
   },
   {
    "duration": 9,
    "start_time": "2022-11-13T15:40:00.407Z"
   },
   {
    "duration": 9,
    "start_time": "2022-11-13T15:40:07.792Z"
   },
   {
    "duration": 77,
    "start_time": "2022-11-13T15:40:30.739Z"
   },
   {
    "duration": 30,
    "start_time": "2022-11-13T15:40:36.824Z"
   },
   {
    "duration": 21,
    "start_time": "2022-11-13T15:40:46.711Z"
   },
   {
    "duration": 32,
    "start_time": "2022-11-13T15:40:54.527Z"
   },
   {
    "duration": 74,
    "start_time": "2022-11-13T15:41:11.759Z"
   },
   {
    "duration": 93,
    "start_time": "2022-11-13T15:41:22.626Z"
   },
   {
    "duration": 18,
    "start_time": "2022-11-13T15:41:34.470Z"
   },
   {
    "duration": 23,
    "start_time": "2022-11-13T15:41:54.865Z"
   },
   {
    "duration": 27,
    "start_time": "2022-11-13T15:49:21.744Z"
   },
   {
    "duration": 12,
    "start_time": "2022-11-13T15:50:18.787Z"
   },
   {
    "duration": 9,
    "start_time": "2022-11-13T15:51:03.596Z"
   },
   {
    "duration": 31,
    "start_time": "2022-11-13T15:51:13.701Z"
   },
   {
    "duration": 19,
    "start_time": "2022-11-13T15:52:23.207Z"
   },
   {
    "duration": 19,
    "start_time": "2022-11-13T15:53:00.814Z"
   },
   {
    "duration": 32,
    "start_time": "2022-11-13T15:53:42.166Z"
   },
   {
    "duration": 13,
    "start_time": "2022-11-13T15:54:00.720Z"
   },
   {
    "duration": 13,
    "start_time": "2022-11-13T15:55:24.785Z"
   },
   {
    "duration": 13,
    "start_time": "2022-11-13T15:55:34.487Z"
   },
   {
    "duration": 18,
    "start_time": "2022-11-13T15:56:35.979Z"
   },
   {
    "duration": 22,
    "start_time": "2022-11-13T15:57:27.966Z"
   },
   {
    "duration": 37,
    "start_time": "2022-11-13T15:58:04.903Z"
   },
   {
    "duration": 17,
    "start_time": "2022-11-13T15:58:25.629Z"
   },
   {
    "duration": 15,
    "start_time": "2022-11-13T15:59:07.816Z"
   },
   {
    "duration": 71,
    "start_time": "2022-11-13T16:02:46.984Z"
   },
   {
    "duration": 20,
    "start_time": "2022-11-13T16:03:32.072Z"
   },
   {
    "duration": 20,
    "start_time": "2022-11-13T16:04:08.982Z"
   },
   {
    "duration": 17,
    "start_time": "2022-11-13T16:05:15.237Z"
   },
   {
    "duration": 15,
    "start_time": "2022-11-13T16:08:11.673Z"
   },
   {
    "duration": 19,
    "start_time": "2022-11-13T16:08:55.484Z"
   },
   {
    "duration": 14,
    "start_time": "2022-11-13T16:13:22.520Z"
   },
   {
    "duration": 25,
    "start_time": "2022-11-13T16:19:41.563Z"
   },
   {
    "duration": 93,
    "start_time": "2022-11-13T16:23:06.441Z"
   },
   {
    "duration": 16,
    "start_time": "2022-11-13T16:23:16.302Z"
   },
   {
    "duration": 13,
    "start_time": "2022-11-13T16:25:11.499Z"
   },
   {
    "duration": 19,
    "start_time": "2022-11-13T16:25:39.662Z"
   },
   {
    "duration": 13,
    "start_time": "2022-11-13T16:33:52.617Z"
   },
   {
    "duration": 9,
    "start_time": "2022-11-13T16:34:22.752Z"
   },
   {
    "duration": 5,
    "start_time": "2022-11-13T16:34:58.009Z"
   },
   {
    "duration": 4,
    "start_time": "2022-11-13T16:35:01.333Z"
   },
   {
    "duration": 3,
    "start_time": "2022-11-13T16:35:02.783Z"
   },
   {
    "duration": 4,
    "start_time": "2022-11-13T16:35:08.913Z"
   },
   {
    "duration": 4,
    "start_time": "2022-11-13T16:35:11.049Z"
   },
   {
    "duration": 15,
    "start_time": "2022-11-13T16:35:52.094Z"
   },
   {
    "duration": 14,
    "start_time": "2022-11-13T16:35:54.995Z"
   },
   {
    "duration": 14,
    "start_time": "2022-11-13T16:35:57.722Z"
   },
   {
    "duration": 26,
    "start_time": "2022-11-13T16:36:01.311Z"
   },
   {
    "duration": 4,
    "start_time": "2022-11-13T16:36:05.456Z"
   },
   {
    "duration": 18,
    "start_time": "2022-11-13T16:37:19.719Z"
   },
   {
    "duration": 14,
    "start_time": "2022-11-13T16:38:50.661Z"
   },
   {
    "duration": 17,
    "start_time": "2022-11-13T16:40:15.609Z"
   },
   {
    "duration": 15,
    "start_time": "2022-11-13T16:40:44.746Z"
   },
   {
    "duration": 15,
    "start_time": "2022-11-13T16:41:25.326Z"
   },
   {
    "duration": 16,
    "start_time": "2022-11-13T16:42:21.742Z"
   },
   {
    "duration": 16,
    "start_time": "2022-11-13T16:52:28.645Z"
   },
   {
    "duration": 14,
    "start_time": "2022-11-13T16:56:55.497Z"
   },
   {
    "duration": 4,
    "start_time": "2022-11-13T16:58:19.918Z"
   },
   {
    "duration": 12,
    "start_time": "2022-11-13T16:58:20.925Z"
   },
   {
    "duration": 18,
    "start_time": "2022-11-13T16:58:32.327Z"
   },
   {
    "duration": 16,
    "start_time": "2022-11-13T16:59:11.847Z"
   },
   {
    "duration": 567,
    "start_time": "2022-11-14T09:49:41.961Z"
   },
   {
    "duration": 26,
    "start_time": "2022-11-14T09:49:42.530Z"
   },
   {
    "duration": 18,
    "start_time": "2022-11-14T09:49:42.557Z"
   },
   {
    "duration": 10,
    "start_time": "2022-11-14T09:49:42.577Z"
   },
   {
    "duration": 62,
    "start_time": "2022-11-14T09:49:42.589Z"
   },
   {
    "duration": 5,
    "start_time": "2022-11-14T09:49:42.653Z"
   },
   {
    "duration": 16,
    "start_time": "2022-11-14T09:49:42.659Z"
   },
   {
    "duration": 6,
    "start_time": "2022-11-14T09:49:42.677Z"
   },
   {
    "duration": 16,
    "start_time": "2022-11-14T09:49:42.685Z"
   },
   {
    "duration": 5,
    "start_time": "2022-11-14T09:49:42.703Z"
   },
   {
    "duration": 65,
    "start_time": "2022-11-14T09:49:42.709Z"
   },
   {
    "duration": 10,
    "start_time": "2022-11-14T09:49:42.776Z"
   },
   {
    "duration": 5,
    "start_time": "2022-11-14T09:49:42.787Z"
   },
   {
    "duration": 16,
    "start_time": "2022-11-14T09:49:42.794Z"
   },
   {
    "duration": 40,
    "start_time": "2022-11-14T09:49:42.812Z"
   },
   {
    "duration": 19,
    "start_time": "2022-11-14T09:49:42.853Z"
   },
   {
    "duration": 4,
    "start_time": "2022-11-14T09:49:42.874Z"
   },
   {
    "duration": 15,
    "start_time": "2022-11-14T09:49:42.879Z"
   },
   {
    "duration": 7,
    "start_time": "2022-11-14T09:49:42.896Z"
   },
   {
    "duration": 4,
    "start_time": "2022-11-14T09:49:42.905Z"
   },
   {
    "duration": 42,
    "start_time": "2022-11-14T09:49:42.911Z"
   },
   {
    "duration": 14,
    "start_time": "2022-11-14T09:49:42.955Z"
   },
   {
    "duration": 26,
    "start_time": "2022-11-14T09:49:42.971Z"
   },
   {
    "duration": 15,
    "start_time": "2022-11-14T09:49:42.999Z"
   },
   {
    "duration": 40,
    "start_time": "2022-11-14T09:49:43.016Z"
   },
   {
    "duration": 10,
    "start_time": "2023-06-02T14:14:25.884Z"
   },
   {
    "duration": 10,
    "start_time": "2023-06-02T14:14:28.171Z"
   },
   {
    "duration": 4,
    "start_time": "2023-06-02T14:14:32.704Z"
   },
   {
    "duration": 56,
    "start_time": "2023-06-02T14:14:34.672Z"
   },
   {
    "duration": 8,
    "start_time": "2023-06-02T14:14:46.175Z"
   },
   {
    "duration": 6,
    "start_time": "2023-06-02T14:14:48.015Z"
   },
   {
    "duration": 16,
    "start_time": "2023-06-02T14:14:51.741Z"
   },
   {
    "duration": 10,
    "start_time": "2023-06-02T14:14:56.171Z"
   },
   {
    "duration": 507,
    "start_time": "2023-06-02T14:15:04.784Z"
   },
   {
    "duration": 28,
    "start_time": "2023-06-02T14:15:06.296Z"
   },
   {
    "duration": 25,
    "start_time": "2023-06-02T14:15:08.053Z"
   },
   {
    "duration": 11,
    "start_time": "2023-06-02T14:15:11.398Z"
   },
   {
    "duration": 43,
    "start_time": "2023-06-02T14:15:13.468Z"
   },
   {
    "duration": 5,
    "start_time": "2023-06-02T14:15:15.749Z"
   },
   {
    "duration": 12,
    "start_time": "2023-06-02T14:15:17.176Z"
   },
   {
    "duration": 5,
    "start_time": "2023-06-02T14:15:19.494Z"
   },
   {
    "duration": 8,
    "start_time": "2023-06-02T14:15:21.115Z"
   },
   {
    "duration": 10,
    "start_time": "2023-06-02T14:15:22.786Z"
   },
   {
    "duration": 45,
    "start_time": "2023-06-02T14:15:25.072Z"
   },
   {
    "duration": 18,
    "start_time": "2023-06-02T14:15:26.544Z"
   },
   {
    "duration": 4,
    "start_time": "2023-06-02T14:15:28.904Z"
   },
   {
    "duration": 13,
    "start_time": "2023-06-02T14:15:31.316Z"
   },
   {
    "duration": 23,
    "start_time": "2023-06-02T14:15:33.482Z"
   },
   {
    "duration": 19,
    "start_time": "2023-06-02T14:15:34.326Z"
   },
   {
    "duration": 6,
    "start_time": "2023-06-02T14:15:37.041Z"
   },
   {
    "duration": 27,
    "start_time": "2023-06-02T14:15:38.039Z"
   },
   {
    "duration": 9,
    "start_time": "2023-06-02T14:15:44.058Z"
   },
   {
    "duration": 6,
    "start_time": "2023-06-02T14:15:46.178Z"
   },
   {
    "duration": 9,
    "start_time": "2023-06-02T14:15:47.126Z"
   },
   {
    "duration": 13,
    "start_time": "2023-06-02T14:15:50.203Z"
   },
   {
    "duration": 14,
    "start_time": "2023-06-02T14:15:55.192Z"
   },
   {
    "duration": 24,
    "start_time": "2023-06-02T14:15:59.643Z"
   },
   {
    "duration": 20,
    "start_time": "2023-06-02T14:16:03.974Z"
   },
   {
    "duration": 510,
    "start_time": "2024-04-18T13:43:23.947Z"
   },
   {
    "duration": 27,
    "start_time": "2024-04-18T13:43:24.458Z"
   },
   {
    "duration": 45,
    "start_time": "2024-04-18T13:43:24.486Z"
   },
   {
    "duration": 13,
    "start_time": "2024-04-18T13:43:24.534Z"
   },
   {
    "duration": 44,
    "start_time": "2024-04-18T13:43:24.549Z"
   },
   {
    "duration": 3,
    "start_time": "2024-04-18T13:43:24.595Z"
   },
   {
    "duration": 46,
    "start_time": "2024-04-18T13:43:24.600Z"
   },
   {
    "duration": 5,
    "start_time": "2024-04-18T13:43:24.648Z"
   },
   {
    "duration": 10,
    "start_time": "2024-04-18T13:43:24.654Z"
   },
   {
    "duration": 25,
    "start_time": "2024-04-18T13:43:24.667Z"
   },
   {
    "duration": 40,
    "start_time": "2024-04-18T13:43:24.693Z"
   },
   {
    "duration": 10,
    "start_time": "2024-04-18T13:43:24.734Z"
   },
   {
    "duration": 7,
    "start_time": "2024-04-18T13:43:24.745Z"
   },
   {
    "duration": 21,
    "start_time": "2024-04-18T13:43:24.753Z"
   },
   {
    "duration": 54,
    "start_time": "2024-04-18T13:43:24.776Z"
   },
   {
    "duration": 16,
    "start_time": "2024-04-18T13:43:24.832Z"
   },
   {
    "duration": 38,
    "start_time": "2024-04-18T13:43:24.850Z"
   },
   {
    "duration": 45,
    "start_time": "2024-04-18T13:43:24.889Z"
   },
   {
    "duration": 11,
    "start_time": "2024-04-18T13:43:24.936Z"
   },
   {
    "duration": 7,
    "start_time": "2024-04-18T13:43:24.948Z"
   },
   {
    "duration": 9,
    "start_time": "2024-04-18T13:43:24.956Z"
   },
   {
    "duration": 16,
    "start_time": "2024-04-18T13:43:24.966Z"
   },
   {
    "duration": 12,
    "start_time": "2024-04-18T13:43:24.984Z"
   },
   {
    "duration": 18,
    "start_time": "2024-04-18T13:43:24.997Z"
   },
   {
    "duration": 35,
    "start_time": "2024-04-18T13:43:25.016Z"
   },
   {
    "duration": 65,
    "start_time": "2024-04-18T14:12:05.791Z"
   },
   {
    "duration": 9,
    "start_time": "2024-04-18T14:12:13.349Z"
   },
   {
    "duration": 9,
    "start_time": "2024-04-18T14:12:46.430Z"
   },
   {
    "duration": 18,
    "start_time": "2024-04-18T14:14:41.762Z"
   },
   {
    "duration": 38,
    "start_time": "2024-04-18T14:18:34.771Z"
   },
   {
    "duration": 25,
    "start_time": "2024-04-18T14:19:30.455Z"
   },
   {
    "duration": 48,
    "start_time": "2024-04-19T05:34:13.749Z"
   },
   {
    "duration": 7,
    "start_time": "2024-04-19T05:34:27.996Z"
   },
   {
    "duration": 7,
    "start_time": "2024-04-19T05:34:50.542Z"
   },
   {
    "duration": 7,
    "start_time": "2024-04-19T05:35:22.597Z"
   },
   {
    "duration": 6,
    "start_time": "2024-04-19T05:35:47.788Z"
   },
   {
    "duration": 628,
    "start_time": "2024-04-19T05:35:58.472Z"
   },
   {
    "duration": 22,
    "start_time": "2024-04-19T05:35:59.101Z"
   },
   {
    "duration": 16,
    "start_time": "2024-04-19T05:35:59.125Z"
   },
   {
    "duration": 10,
    "start_time": "2024-04-19T05:35:59.143Z"
   },
   {
    "duration": 42,
    "start_time": "2024-04-19T05:35:59.154Z"
   },
   {
    "duration": 3,
    "start_time": "2024-04-19T05:35:59.198Z"
   },
   {
    "duration": 13,
    "start_time": "2024-04-19T05:35:59.203Z"
   },
   {
    "duration": 5,
    "start_time": "2024-04-19T05:35:59.218Z"
   },
   {
    "duration": 9,
    "start_time": "2024-04-19T05:35:59.224Z"
   },
   {
    "duration": 7,
    "start_time": "2024-04-19T05:35:59.238Z"
   },
   {
    "duration": 75,
    "start_time": "2024-04-19T05:35:59.247Z"
   },
   {
    "duration": 12,
    "start_time": "2024-04-19T05:35:59.323Z"
   },
   {
    "duration": 9,
    "start_time": "2024-04-19T05:35:59.336Z"
   },
   {
    "duration": 26,
    "start_time": "2024-04-19T05:35:59.347Z"
   },
   {
    "duration": 22,
    "start_time": "2024-04-19T05:35:59.375Z"
   },
   {
    "duration": 17,
    "start_time": "2024-04-19T05:35:59.398Z"
   },
   {
    "duration": 4,
    "start_time": "2024-04-19T05:35:59.416Z"
   },
   {
    "duration": 14,
    "start_time": "2024-04-19T05:35:59.421Z"
   },
   {
    "duration": 6,
    "start_time": "2024-04-19T05:35:59.436Z"
   },
   {
    "duration": 3,
    "start_time": "2024-04-19T05:35:59.443Z"
   },
   {
    "duration": 35,
    "start_time": "2024-04-19T05:35:59.448Z"
   },
   {
    "duration": 11,
    "start_time": "2024-04-19T05:35:59.485Z"
   },
   {
    "duration": 31,
    "start_time": "2024-04-19T05:35:59.498Z"
   },
   {
    "duration": 13,
    "start_time": "2024-04-19T05:35:59.531Z"
   },
   {
    "duration": 30,
    "start_time": "2024-04-19T05:35:59.545Z"
   },
   {
    "duration": 15,
    "start_time": "2024-04-19T05:35:59.576Z"
   },
   {
    "duration": 35,
    "start_time": "2024-04-19T05:36:13.833Z"
   },
   {
    "duration": 422,
    "start_time": "2024-04-19T05:36:29.226Z"
   },
   {
    "duration": 21,
    "start_time": "2024-04-19T05:36:29.649Z"
   },
   {
    "duration": 14,
    "start_time": "2024-04-19T05:36:29.672Z"
   },
   {
    "duration": 10,
    "start_time": "2024-04-19T05:36:29.687Z"
   },
   {
    "duration": 37,
    "start_time": "2024-04-19T05:36:29.698Z"
   },
   {
    "duration": 3,
    "start_time": "2024-04-19T05:36:29.736Z"
   },
   {
    "duration": 9,
    "start_time": "2024-04-19T05:36:29.741Z"
   },
   {
    "duration": 6,
    "start_time": "2024-04-19T05:36:29.751Z"
   },
   {
    "duration": 6,
    "start_time": "2024-04-19T05:36:29.782Z"
   },
   {
    "duration": 4,
    "start_time": "2024-04-19T05:36:29.791Z"
   },
   {
    "duration": 36,
    "start_time": "2024-04-19T05:36:29.796Z"
   },
   {
    "duration": 10,
    "start_time": "2024-04-19T05:36:29.834Z"
   },
   {
    "duration": 3,
    "start_time": "2024-04-19T05:36:29.846Z"
   },
   {
    "duration": 38,
    "start_time": "2024-04-19T05:36:29.851Z"
   },
   {
    "duration": 19,
    "start_time": "2024-04-19T05:36:29.891Z"
   },
   {
    "duration": 17,
    "start_time": "2024-04-19T05:36:29.912Z"
   },
   {
    "duration": 4,
    "start_time": "2024-04-19T05:36:29.931Z"
   },
   {
    "duration": 14,
    "start_time": "2024-04-19T05:36:29.936Z"
   },
   {
    "duration": 33,
    "start_time": "2024-04-19T05:36:29.951Z"
   },
   {
    "duration": 33,
    "start_time": "2024-04-19T05:36:29.985Z"
   },
   {
    "duration": 130,
    "start_time": "2024-04-19T05:36:30.020Z"
   },
   {
    "duration": 200,
    "start_time": "2024-04-19T05:36:30.152Z"
   },
   {
    "duration": 74,
    "start_time": "2024-04-19T05:36:30.354Z"
   },
   {
    "duration": 184,
    "start_time": "2024-04-19T05:36:30.430Z"
   },
   {
    "duration": 296,
    "start_time": "2024-04-19T05:36:30.616Z"
   },
   {
    "duration": 372,
    "start_time": "2024-04-19T05:36:30.914Z"
   },
   {
    "duration": 27,
    "start_time": "2024-04-19T05:37:35.449Z"
   },
   {
    "duration": 27,
    "start_time": "2024-04-19T05:38:41.616Z"
   },
   {
    "duration": 28,
    "start_time": "2024-04-19T05:38:54.668Z"
   },
   {
    "duration": 513,
    "start_time": "2024-04-19T05:39:17.851Z"
   },
   {
    "duration": 21,
    "start_time": "2024-04-19T05:39:18.366Z"
   },
   {
    "duration": 15,
    "start_time": "2024-04-19T05:39:18.389Z"
   },
   {
    "duration": 9,
    "start_time": "2024-04-19T05:39:18.406Z"
   },
   {
    "duration": 33,
    "start_time": "2024-04-19T05:39:18.417Z"
   },
   {
    "duration": 3,
    "start_time": "2024-04-19T05:39:18.452Z"
   },
   {
    "duration": 33,
    "start_time": "2024-04-19T05:39:18.457Z"
   },
   {
    "duration": 5,
    "start_time": "2024-04-19T05:39:18.492Z"
   },
   {
    "duration": 11,
    "start_time": "2024-04-19T05:39:18.499Z"
   },
   {
    "duration": 4,
    "start_time": "2024-04-19T05:39:18.512Z"
   },
   {
    "duration": 36,
    "start_time": "2024-04-19T05:39:18.518Z"
   },
   {
    "duration": 30,
    "start_time": "2024-04-19T05:39:18.556Z"
   },
   {
    "duration": 14,
    "start_time": "2024-04-19T05:39:18.587Z"
   },
   {
    "duration": 13,
    "start_time": "2024-04-19T05:39:18.602Z"
   },
   {
    "duration": 19,
    "start_time": "2024-04-19T05:39:18.617Z"
   },
   {
    "duration": 17,
    "start_time": "2024-04-19T05:39:18.638Z"
   },
   {
    "duration": 4,
    "start_time": "2024-04-19T05:39:18.656Z"
   },
   {
    "duration": 31,
    "start_time": "2024-04-19T05:39:18.661Z"
   },
   {
    "duration": 17,
    "start_time": "2024-04-19T05:39:18.693Z"
   },
   {
    "duration": 4,
    "start_time": "2024-04-19T05:39:18.711Z"
   },
   {
    "duration": 33,
    "start_time": "2024-04-19T05:39:18.716Z"
   },
   {
    "duration": 19,
    "start_time": "2024-04-19T05:39:18.751Z"
   },
   {
    "duration": 30,
    "start_time": "2024-04-19T05:39:18.772Z"
   },
   {
    "duration": 13,
    "start_time": "2024-04-19T05:39:18.803Z"
   },
   {
    "duration": 12,
    "start_time": "2024-04-19T05:39:18.817Z"
   },
   {
    "duration": 13,
    "start_time": "2024-04-19T05:39:18.831Z"
   },
   {
    "duration": 27,
    "start_time": "2024-04-19T05:39:55.635Z"
   },
   {
    "duration": 35,
    "start_time": "2024-04-19T05:43:13.822Z"
   },
   {
    "duration": 28,
    "start_time": "2024-04-19T05:43:28.419Z"
   },
   {
    "duration": 24,
    "start_time": "2024-04-19T05:51:37.133Z"
   },
   {
    "duration": 22,
    "start_time": "2024-04-19T05:52:17.337Z"
   },
   {
    "duration": 23,
    "start_time": "2024-04-19T05:53:12.844Z"
   },
   {
    "duration": 472,
    "start_time": "2024-04-19T05:53:23.818Z"
   },
   {
    "duration": 26,
    "start_time": "2024-04-19T05:53:24.292Z"
   },
   {
    "duration": 15,
    "start_time": "2024-04-19T05:53:24.320Z"
   },
   {
    "duration": 10,
    "start_time": "2024-04-19T05:53:24.336Z"
   },
   {
    "duration": 51,
    "start_time": "2024-04-19T05:53:24.348Z"
   },
   {
    "duration": 3,
    "start_time": "2024-04-19T05:53:24.401Z"
   },
   {
    "duration": 12,
    "start_time": "2024-04-19T05:53:24.405Z"
   },
   {
    "duration": 3,
    "start_time": "2024-04-19T05:53:24.419Z"
   },
   {
    "duration": 9,
    "start_time": "2024-04-19T05:53:24.424Z"
   },
   {
    "duration": 10,
    "start_time": "2024-04-19T05:53:24.436Z"
   },
   {
    "duration": 52,
    "start_time": "2024-04-19T05:53:24.447Z"
   },
   {
    "duration": 10,
    "start_time": "2024-04-19T05:53:24.501Z"
   },
   {
    "duration": 18,
    "start_time": "2024-04-19T05:53:24.512Z"
   },
   {
    "duration": 18,
    "start_time": "2024-04-19T05:53:24.532Z"
   },
   {
    "duration": 23,
    "start_time": "2024-04-19T05:53:24.552Z"
   },
   {
    "duration": 20,
    "start_time": "2024-04-19T05:53:24.576Z"
   },
   {
    "duration": 4,
    "start_time": "2024-04-19T05:53:24.597Z"
   },
   {
    "duration": 14,
    "start_time": "2024-04-19T05:53:24.602Z"
   },
   {
    "duration": 10,
    "start_time": "2024-04-19T05:53:24.617Z"
   },
   {
    "duration": 13,
    "start_time": "2024-04-19T05:53:24.628Z"
   },
   {
    "duration": 21,
    "start_time": "2024-04-19T05:53:24.643Z"
   },
   {
    "duration": 20,
    "start_time": "2024-04-19T05:53:24.666Z"
   },
   {
    "duration": 28,
    "start_time": "2024-04-19T05:53:24.687Z"
   },
   {
    "duration": 12,
    "start_time": "2024-04-19T05:53:24.717Z"
   },
   {
    "duration": 12,
    "start_time": "2024-04-19T05:53:24.730Z"
   },
   {
    "duration": 14,
    "start_time": "2024-04-19T05:53:24.743Z"
   },
   {
    "duration": 58,
    "start_time": "2024-04-19T05:53:55.185Z"
   },
   {
    "duration": 21,
    "start_time": "2024-04-19T05:54:15.241Z"
   },
   {
    "duration": 23,
    "start_time": "2024-04-19T05:54:39.964Z"
   },
   {
    "duration": 855,
    "start_time": "2024-04-19T06:02:13.246Z"
   },
   {
    "duration": 811,
    "start_time": "2024-04-19T06:02:46.541Z"
   },
   {
    "duration": 1097,
    "start_time": "2024-04-19T06:10:01.326Z"
   },
   {
    "duration": 23,
    "start_time": "2024-04-19T06:14:14.870Z"
   },
   {
    "duration": 53,
    "start_time": "2024-04-19T06:24:40.776Z"
   },
   {
    "duration": 2529,
    "start_time": "2024-04-19T06:24:51.736Z"
   },
   {
    "duration": 16,
    "start_time": "2024-04-19T06:26:19.480Z"
   },
   {
    "duration": 16,
    "start_time": "2024-04-19T06:26:31.917Z"
   },
   {
    "duration": 88,
    "start_time": "2024-04-19T06:26:50.338Z"
   },
   {
    "duration": 21,
    "start_time": "2024-04-19T06:28:18.021Z"
   },
   {
    "duration": 51,
    "start_time": "2024-04-19T06:30:24.743Z"
   },
   {
    "duration": 51,
    "start_time": "2024-04-19T06:30:30.201Z"
   },
   {
    "duration": 50,
    "start_time": "2024-04-19T06:30:38.570Z"
   },
   {
    "duration": 25,
    "start_time": "2024-04-19T06:31:39.724Z"
   },
   {
    "duration": 758,
    "start_time": "2024-04-19T06:34:08.748Z"
   },
   {
    "duration": 695,
    "start_time": "2024-04-19T06:34:20.663Z"
   },
   {
    "duration": 785,
    "start_time": "2024-04-19T06:34:35.899Z"
   },
   {
    "duration": 23,
    "start_time": "2024-04-19T06:35:04.594Z"
   },
   {
    "duration": 25,
    "start_time": "2024-04-19T06:36:03.278Z"
   },
   {
    "duration": 24,
    "start_time": "2024-04-19T06:39:14.065Z"
   },
   {
    "duration": 25,
    "start_time": "2024-04-19T06:40:22.255Z"
   },
   {
    "duration": 25,
    "start_time": "2024-04-19T06:41:03.858Z"
   },
   {
    "duration": 746,
    "start_time": "2024-04-19T06:42:28.084Z"
   },
   {
    "duration": 28,
    "start_time": "2024-04-19T06:44:28.906Z"
   },
   {
    "duration": 226,
    "start_time": "2024-04-19T06:53:30.577Z"
   },
   {
    "duration": 30,
    "start_time": "2024-04-19T06:54:54.942Z"
   },
   {
    "duration": 31,
    "start_time": "2024-04-19T06:56:00.009Z"
   },
   {
    "duration": 33,
    "start_time": "2024-04-19T06:56:46.189Z"
   },
   {
    "duration": 49,
    "start_time": "2024-04-19T06:58:45.723Z"
   },
   {
    "duration": 29,
    "start_time": "2024-04-19T06:58:52.388Z"
   },
   {
    "duration": 23,
    "start_time": "2024-04-19T06:59:23.549Z"
   },
   {
    "duration": 35,
    "start_time": "2024-04-19T06:59:37.256Z"
   },
   {
    "duration": 30,
    "start_time": "2024-04-19T06:59:51.814Z"
   },
   {
    "duration": 25,
    "start_time": "2024-04-19T07:00:23.400Z"
   },
   {
    "duration": 25,
    "start_time": "2024-04-19T07:00:49.152Z"
   },
   {
    "duration": 40,
    "start_time": "2024-04-19T07:03:22.365Z"
   },
   {
    "duration": 25,
    "start_time": "2024-04-19T07:05:13.739Z"
   },
   {
    "duration": 29,
    "start_time": "2024-04-19T07:05:24.883Z"
   },
   {
    "duration": 27,
    "start_time": "2024-04-19T07:07:22.489Z"
   },
   {
    "duration": 29,
    "start_time": "2024-04-19T07:09:26.229Z"
   },
   {
    "duration": 30,
    "start_time": "2024-04-19T07:17:16.648Z"
   },
   {
    "duration": 28,
    "start_time": "2024-04-19T07:18:11.746Z"
   },
   {
    "duration": 483,
    "start_time": "2024-04-19T07:18:39.301Z"
   },
   {
    "duration": 33,
    "start_time": "2024-04-19T07:19:25.749Z"
   },
   {
    "duration": 41,
    "start_time": "2024-04-19T07:20:49.339Z"
   },
   {
    "duration": 28,
    "start_time": "2024-04-19T07:21:04.033Z"
   },
   {
    "duration": 29,
    "start_time": "2024-04-19T07:21:45.467Z"
   },
   {
    "duration": 34,
    "start_time": "2024-04-19T07:23:02.271Z"
   },
   {
    "duration": 28,
    "start_time": "2024-04-19T07:25:14.085Z"
   },
   {
    "duration": 5,
    "start_time": "2024-04-19T07:31:14.121Z"
   },
   {
    "duration": 33,
    "start_time": "2024-04-19T07:32:01.089Z"
   },
   {
    "duration": 21,
    "start_time": "2024-04-19T07:32:21.684Z"
   },
   {
    "duration": 31,
    "start_time": "2024-04-19T07:34:38.752Z"
   },
   {
    "duration": 28,
    "start_time": "2024-04-19T07:35:15.249Z"
   },
   {
    "duration": 30,
    "start_time": "2024-04-19T07:35:43.533Z"
   },
   {
    "duration": 29,
    "start_time": "2024-04-19T07:39:20.333Z"
   },
   {
    "duration": 29,
    "start_time": "2024-04-19T07:41:30.142Z"
   },
   {
    "duration": 30,
    "start_time": "2024-04-19T07:41:40.612Z"
   },
   {
    "duration": 30,
    "start_time": "2024-04-19T07:42:03.475Z"
   },
   {
    "duration": 21,
    "start_time": "2024-04-19T07:43:35.643Z"
   },
   {
    "duration": 44,
    "start_time": "2024-04-19T07:43:54.261Z"
   },
   {
    "duration": 16,
    "start_time": "2024-04-19T07:44:00.563Z"
   },
   {
    "duration": 16,
    "start_time": "2024-04-19T07:44:19.346Z"
   },
   {
    "duration": 242,
    "start_time": "2024-04-19T07:44:27.379Z"
   },
   {
    "duration": 16,
    "start_time": "2024-04-19T07:44:36.525Z"
   },
   {
    "duration": 19,
    "start_time": "2024-04-19T07:45:02.462Z"
   },
   {
    "duration": 50,
    "start_time": "2024-04-19T07:45:16.673Z"
   },
   {
    "duration": 17,
    "start_time": "2024-04-19T07:45:25.698Z"
   },
   {
    "duration": 35,
    "start_time": "2024-04-19T07:46:05.844Z"
   },
   {
    "duration": 241,
    "start_time": "2024-04-19T07:51:26.287Z"
   },
   {
    "duration": 27,
    "start_time": "2024-04-19T07:51:35.293Z"
   },
   {
    "duration": 29,
    "start_time": "2024-04-19T07:52:08.370Z"
   },
   {
    "duration": 28,
    "start_time": "2024-04-19T07:52:27.438Z"
   },
   {
    "duration": 25,
    "start_time": "2024-04-19T07:54:58.479Z"
   },
   {
    "duration": 29,
    "start_time": "2024-04-19T07:55:17.813Z"
   },
   {
    "duration": 32,
    "start_time": "2024-04-19T07:56:37.469Z"
   },
   {
    "duration": 27,
    "start_time": "2024-04-19T07:56:48.526Z"
   },
   {
    "duration": 27,
    "start_time": "2024-04-19T07:56:57.533Z"
   },
   {
    "duration": 32,
    "start_time": "2024-04-19T07:57:17.219Z"
   },
   {
    "duration": 31,
    "start_time": "2024-04-19T08:01:12.403Z"
   },
   {
    "duration": 31,
    "start_time": "2024-04-19T08:01:59.708Z"
   },
   {
    "duration": 30,
    "start_time": "2024-04-19T08:02:58.697Z"
   },
   {
    "duration": 40,
    "start_time": "2024-04-19T08:04:28.292Z"
   },
   {
    "duration": 31,
    "start_time": "2024-04-19T08:06:06.520Z"
   },
   {
    "duration": 33,
    "start_time": "2024-04-19T08:07:33.966Z"
   },
   {
    "duration": 30,
    "start_time": "2024-04-19T08:12:23.320Z"
   },
   {
    "duration": 32,
    "start_time": "2024-04-19T08:14:14.335Z"
   },
   {
    "duration": 30,
    "start_time": "2024-04-19T08:14:25.256Z"
   },
   {
    "duration": 33,
    "start_time": "2024-04-19T08:16:28.604Z"
   },
   {
    "duration": 34,
    "start_time": "2024-04-19T08:16:37.073Z"
   },
   {
    "duration": 34,
    "start_time": "2024-04-19T08:16:54.100Z"
   },
   {
    "duration": 32,
    "start_time": "2024-04-19T08:17:15.278Z"
   },
   {
    "duration": 33,
    "start_time": "2024-04-19T08:17:26.104Z"
   },
   {
    "duration": 43,
    "start_time": "2024-04-19T08:17:37.153Z"
   },
   {
    "duration": 34,
    "start_time": "2024-04-19T08:17:44.824Z"
   },
   {
    "duration": 34,
    "start_time": "2024-04-19T08:17:51.432Z"
   },
   {
    "duration": 33,
    "start_time": "2024-04-19T08:17:57.718Z"
   },
   {
    "duration": 458,
    "start_time": "2024-04-19T08:18:10.711Z"
   },
   {
    "duration": 22,
    "start_time": "2024-04-19T08:18:11.171Z"
   },
   {
    "duration": 16,
    "start_time": "2024-04-19T08:18:11.195Z"
   },
   {
    "duration": 21,
    "start_time": "2024-04-19T08:18:11.213Z"
   },
   {
    "duration": 42,
    "start_time": "2024-04-19T08:18:11.235Z"
   },
   {
    "duration": 4,
    "start_time": "2024-04-19T08:18:11.282Z"
   },
   {
    "duration": 27,
    "start_time": "2024-04-19T08:18:11.287Z"
   },
   {
    "duration": 5,
    "start_time": "2024-04-19T08:18:11.316Z"
   },
   {
    "duration": 7,
    "start_time": "2024-04-19T08:18:11.322Z"
   },
   {
    "duration": 4,
    "start_time": "2024-04-19T08:18:11.331Z"
   },
   {
    "duration": 54,
    "start_time": "2024-04-19T08:18:11.337Z"
   },
   {
    "duration": 10,
    "start_time": "2024-04-19T08:18:11.393Z"
   },
   {
    "duration": 12,
    "start_time": "2024-04-19T08:18:11.404Z"
   },
   {
    "duration": 26,
    "start_time": "2024-04-19T08:18:11.417Z"
   },
   {
    "duration": 26,
    "start_time": "2024-04-19T08:18:11.445Z"
   },
   {
    "duration": 18,
    "start_time": "2024-04-19T08:18:11.473Z"
   },
   {
    "duration": 19,
    "start_time": "2024-04-19T08:18:11.492Z"
   },
   {
    "duration": 18,
    "start_time": "2024-04-19T08:18:11.512Z"
   },
   {
    "duration": 12,
    "start_time": "2024-04-19T08:18:11.531Z"
   },
   {
    "duration": 4,
    "start_time": "2024-04-19T08:18:11.544Z"
   },
   {
    "duration": 19,
    "start_time": "2024-04-19T08:18:11.550Z"
   },
   {
    "duration": 15,
    "start_time": "2024-04-19T08:18:11.571Z"
   },
   {
    "duration": 36,
    "start_time": "2024-04-19T08:18:11.588Z"
   },
   {
    "duration": 14,
    "start_time": "2024-04-19T08:18:11.625Z"
   },
   {
    "duration": 13,
    "start_time": "2024-04-19T08:18:11.640Z"
   },
   {
    "duration": 39,
    "start_time": "2024-04-19T08:18:11.655Z"
   },
   {
    "duration": 32,
    "start_time": "2024-04-19T08:18:35.330Z"
   },
   {
    "duration": 35,
    "start_time": "2024-04-19T08:18:45.153Z"
   },
   {
    "duration": 49,
    "start_time": "2024-04-19T08:18:51.086Z"
   },
   {
    "duration": 486,
    "start_time": "2024-04-19T08:18:59.898Z"
   },
   {
    "duration": 24,
    "start_time": "2024-04-19T08:19:00.387Z"
   },
   {
    "duration": 44,
    "start_time": "2024-04-19T08:19:00.413Z"
   },
   {
    "duration": 41,
    "start_time": "2024-04-19T08:19:00.459Z"
   },
   {
    "duration": 130,
    "start_time": "2024-04-19T08:19:00.501Z"
   },
   {
    "duration": 47,
    "start_time": "2024-04-19T08:19:00.633Z"
   },
   {
    "duration": 116,
    "start_time": "2024-04-19T08:19:00.681Z"
   },
   {
    "duration": 60,
    "start_time": "2024-04-19T08:19:00.799Z"
   },
   {
    "duration": 52,
    "start_time": "2024-04-19T08:19:00.860Z"
   },
   {
    "duration": 50,
    "start_time": "2024-04-19T08:19:00.915Z"
   },
   {
    "duration": 106,
    "start_time": "2024-04-19T08:19:00.966Z"
   },
   {
    "duration": 30,
    "start_time": "2024-04-19T08:19:01.073Z"
   },
   {
    "duration": 36,
    "start_time": "2024-04-19T08:19:01.104Z"
   },
   {
    "duration": 47,
    "start_time": "2024-04-19T08:19:01.142Z"
   },
   {
    "duration": 51,
    "start_time": "2024-04-19T08:19:01.190Z"
   },
   {
    "duration": 56,
    "start_time": "2024-04-19T08:19:01.243Z"
   },
   {
    "duration": 39,
    "start_time": "2024-04-19T08:19:01.300Z"
   },
   {
    "duration": 45,
    "start_time": "2024-04-19T08:19:01.341Z"
   },
   {
    "duration": 33,
    "start_time": "2024-04-19T08:19:01.388Z"
   },
   {
    "duration": 25,
    "start_time": "2024-04-19T08:19:01.423Z"
   },
   {
    "duration": 59,
    "start_time": "2024-04-19T08:19:01.450Z"
   },
   {
    "duration": 50,
    "start_time": "2024-04-19T08:19:01.511Z"
   },
   {
    "duration": 47,
    "start_time": "2024-04-19T08:19:01.564Z"
   },
   {
    "duration": 30,
    "start_time": "2024-04-19T08:19:01.613Z"
   },
   {
    "duration": 45,
    "start_time": "2024-04-19T08:19:01.644Z"
   },
   {
    "duration": 74,
    "start_time": "2024-04-19T08:19:01.691Z"
   },
   {
    "duration": 40,
    "start_time": "2024-04-19T08:19:12.292Z"
   },
   {
    "duration": 34,
    "start_time": "2024-04-19T08:19:42.300Z"
   },
   {
    "duration": 88,
    "start_time": "2024-04-19T08:21:08.710Z"
   },
   {
    "duration": 40,
    "start_time": "2024-04-19T08:21:19.855Z"
   },
   {
    "duration": 33,
    "start_time": "2024-04-19T08:22:19.704Z"
   },
   {
    "duration": 34,
    "start_time": "2024-04-19T08:22:33.542Z"
   },
   {
    "duration": 31,
    "start_time": "2024-04-19T08:22:41.033Z"
   },
   {
    "duration": 620,
    "start_time": "2024-04-19T19:25:50.335Z"
   },
   {
    "duration": 21,
    "start_time": "2024-04-19T19:25:50.957Z"
   },
   {
    "duration": 15,
    "start_time": "2024-04-19T19:25:50.979Z"
   },
   {
    "duration": 10,
    "start_time": "2024-04-19T19:25:50.995Z"
   },
   {
    "duration": 54,
    "start_time": "2024-04-19T19:25:51.007Z"
   },
   {
    "duration": 3,
    "start_time": "2024-04-19T19:25:51.062Z"
   },
   {
    "duration": 19,
    "start_time": "2024-04-19T19:25:51.067Z"
   },
   {
    "duration": 5,
    "start_time": "2024-04-19T19:25:51.087Z"
   },
   {
    "duration": 20,
    "start_time": "2024-04-19T19:25:51.093Z"
   },
   {
    "duration": 6,
    "start_time": "2024-04-19T19:25:51.114Z"
   },
   {
    "duration": 43,
    "start_time": "2024-04-19T19:25:51.121Z"
   },
   {
    "duration": 10,
    "start_time": "2024-04-19T19:25:51.166Z"
   },
   {
    "duration": 55,
    "start_time": "2024-04-19T19:25:51.177Z"
   },
   {
    "duration": 35,
    "start_time": "2024-04-19T19:25:51.234Z"
   },
   {
    "duration": 22,
    "start_time": "2024-04-19T19:25:51.271Z"
   },
   {
    "duration": 16,
    "start_time": "2024-04-19T19:25:51.294Z"
   },
   {
    "duration": 4,
    "start_time": "2024-04-19T19:25:51.312Z"
   },
   {
    "duration": 20,
    "start_time": "2024-04-19T19:25:51.318Z"
   },
   {
    "duration": 23,
    "start_time": "2024-04-19T19:25:51.340Z"
   },
   {
    "duration": 11,
    "start_time": "2024-04-19T19:25:51.365Z"
   },
   {
    "duration": 14,
    "start_time": "2024-04-19T19:25:51.378Z"
   },
   {
    "duration": 19,
    "start_time": "2024-04-19T19:25:51.393Z"
   },
   {
    "duration": 56,
    "start_time": "2024-04-19T19:25:51.413Z"
   },
   {
    "duration": 13,
    "start_time": "2024-04-19T19:25:51.471Z"
   },
   {
    "duration": 14,
    "start_time": "2024-04-19T19:25:51.485Z"
   },
   {
    "duration": 16,
    "start_time": "2024-04-19T19:25:51.500Z"
   },
   {
    "duration": 650,
    "start_time": "2024-04-20T10:54:46.860Z"
   },
   {
    "duration": 21,
    "start_time": "2024-04-20T10:54:47.512Z"
   },
   {
    "duration": 15,
    "start_time": "2024-04-20T10:54:47.535Z"
   },
   {
    "duration": 30,
    "start_time": "2024-04-20T10:54:47.552Z"
   },
   {
    "duration": 48,
    "start_time": "2024-04-20T10:54:47.584Z"
   },
   {
    "duration": 3,
    "start_time": "2024-04-20T10:54:47.634Z"
   },
   {
    "duration": 20,
    "start_time": "2024-04-20T10:54:47.639Z"
   },
   {
    "duration": 15,
    "start_time": "2024-04-20T10:54:47.661Z"
   },
   {
    "duration": 16,
    "start_time": "2024-04-20T10:54:47.678Z"
   },
   {
    "duration": 9,
    "start_time": "2024-04-20T10:54:47.695Z"
   },
   {
    "duration": 42,
    "start_time": "2024-04-20T10:54:47.706Z"
   },
   {
    "duration": 17,
    "start_time": "2024-04-20T10:54:47.750Z"
   },
   {
    "duration": 22,
    "start_time": "2024-04-20T10:54:47.768Z"
   },
   {
    "duration": 63,
    "start_time": "2024-04-20T10:54:47.793Z"
   },
   {
    "duration": 56,
    "start_time": "2024-04-20T10:54:47.858Z"
   },
   {
    "duration": 20,
    "start_time": "2024-04-20T10:54:47.918Z"
   },
   {
    "duration": 4,
    "start_time": "2024-04-20T10:54:47.939Z"
   },
   {
    "duration": 15,
    "start_time": "2024-04-20T10:54:47.945Z"
   },
   {
    "duration": 13,
    "start_time": "2024-04-20T10:54:47.961Z"
   },
   {
    "duration": 8,
    "start_time": "2024-04-20T10:54:47.976Z"
   },
   {
    "duration": 26,
    "start_time": "2024-04-20T10:54:47.985Z"
   },
   {
    "duration": 15,
    "start_time": "2024-04-20T10:54:48.012Z"
   },
   {
    "duration": 33,
    "start_time": "2024-04-20T10:54:48.028Z"
   },
   {
    "duration": 14,
    "start_time": "2024-04-20T10:54:48.064Z"
   },
   {
    "duration": 13,
    "start_time": "2024-04-20T10:54:48.080Z"
   },
   {
    "duration": 19,
    "start_time": "2024-04-20T10:54:48.094Z"
   },
   {
    "duration": 58,
    "start_time": "2024-04-20T10:59:56.267Z"
   },
   {
    "duration": 0,
    "start_time": "2024-04-20T10:59:56.327Z"
   },
   {
    "duration": 0,
    "start_time": "2024-04-20T10:59:56.328Z"
   },
   {
    "duration": 0,
    "start_time": "2024-04-20T10:59:56.330Z"
   },
   {
    "duration": 0,
    "start_time": "2024-04-20T10:59:56.330Z"
   },
   {
    "duration": 0,
    "start_time": "2024-04-20T10:59:56.331Z"
   },
   {
    "duration": 0,
    "start_time": "2024-04-20T10:59:56.332Z"
   },
   {
    "duration": 0,
    "start_time": "2024-04-20T10:59:56.333Z"
   },
   {
    "duration": 0,
    "start_time": "2024-04-20T10:59:56.334Z"
   },
   {
    "duration": 0,
    "start_time": "2024-04-20T10:59:56.336Z"
   },
   {
    "duration": 0,
    "start_time": "2024-04-20T10:59:56.337Z"
   },
   {
    "duration": 0,
    "start_time": "2024-04-20T10:59:56.338Z"
   },
   {
    "duration": 0,
    "start_time": "2024-04-20T10:59:56.339Z"
   },
   {
    "duration": 0,
    "start_time": "2024-04-20T10:59:56.340Z"
   },
   {
    "duration": 0,
    "start_time": "2024-04-20T10:59:56.341Z"
   },
   {
    "duration": 0,
    "start_time": "2024-04-20T10:59:56.342Z"
   },
   {
    "duration": 0,
    "start_time": "2024-04-20T10:59:56.343Z"
   },
   {
    "duration": 0,
    "start_time": "2024-04-20T10:59:56.344Z"
   },
   {
    "duration": 0,
    "start_time": "2024-04-20T10:59:56.345Z"
   },
   {
    "duration": 0,
    "start_time": "2024-04-20T10:59:56.346Z"
   },
   {
    "duration": 0,
    "start_time": "2024-04-20T10:59:56.347Z"
   },
   {
    "duration": 0,
    "start_time": "2024-04-20T10:59:56.348Z"
   },
   {
    "duration": 0,
    "start_time": "2024-04-20T10:59:56.349Z"
   },
   {
    "duration": 0,
    "start_time": "2024-04-20T10:59:56.350Z"
   },
   {
    "duration": 0,
    "start_time": "2024-04-20T10:59:56.351Z"
   },
   {
    "duration": 0,
    "start_time": "2024-04-20T10:59:56.352Z"
   },
   {
    "duration": 0,
    "start_time": "2024-04-20T10:59:56.353Z"
   },
   {
    "duration": 74,
    "start_time": "2024-04-20T11:00:08.976Z"
   },
   {
    "duration": 103,
    "start_time": "2024-04-20T11:00:27.781Z"
   },
   {
    "duration": 62,
    "start_time": "2024-04-20T11:01:34.373Z"
   },
   {
    "duration": 69,
    "start_time": "2024-04-20T11:02:21.011Z"
   },
   {
    "duration": 58,
    "start_time": "2024-04-20T11:02:39.696Z"
   },
   {
    "duration": 47,
    "start_time": "2024-04-20T11:03:06.184Z"
   },
   {
    "duration": 53,
    "start_time": "2024-04-20T11:03:14.166Z"
   },
   {
    "duration": 0,
    "start_time": "2024-04-20T11:03:14.221Z"
   },
   {
    "duration": 0,
    "start_time": "2024-04-20T11:03:14.222Z"
   },
   {
    "duration": 1,
    "start_time": "2024-04-20T11:03:14.223Z"
   },
   {
    "duration": 0,
    "start_time": "2024-04-20T11:03:14.225Z"
   },
   {
    "duration": 0,
    "start_time": "2024-04-20T11:03:14.226Z"
   },
   {
    "duration": 0,
    "start_time": "2024-04-20T11:03:14.227Z"
   },
   {
    "duration": 0,
    "start_time": "2024-04-20T11:03:14.229Z"
   },
   {
    "duration": 0,
    "start_time": "2024-04-20T11:03:14.230Z"
   },
   {
    "duration": 0,
    "start_time": "2024-04-20T11:03:14.231Z"
   },
   {
    "duration": 0,
    "start_time": "2024-04-20T11:03:14.232Z"
   },
   {
    "duration": 0,
    "start_time": "2024-04-20T11:03:14.234Z"
   },
   {
    "duration": 0,
    "start_time": "2024-04-20T11:03:14.235Z"
   },
   {
    "duration": 0,
    "start_time": "2024-04-20T11:03:14.236Z"
   },
   {
    "duration": 0,
    "start_time": "2024-04-20T11:03:14.237Z"
   },
   {
    "duration": 0,
    "start_time": "2024-04-20T11:03:14.238Z"
   },
   {
    "duration": 0,
    "start_time": "2024-04-20T11:03:14.239Z"
   },
   {
    "duration": 0,
    "start_time": "2024-04-20T11:03:14.240Z"
   },
   {
    "duration": 0,
    "start_time": "2024-04-20T11:03:14.241Z"
   },
   {
    "duration": 0,
    "start_time": "2024-04-20T11:03:14.242Z"
   },
   {
    "duration": 0,
    "start_time": "2024-04-20T11:03:14.242Z"
   },
   {
    "duration": 0,
    "start_time": "2024-04-20T11:03:14.243Z"
   },
   {
    "duration": 0,
    "start_time": "2024-04-20T11:03:14.244Z"
   },
   {
    "duration": 0,
    "start_time": "2024-04-20T11:03:14.245Z"
   },
   {
    "duration": 0,
    "start_time": "2024-04-20T11:03:14.247Z"
   },
   {
    "duration": 0,
    "start_time": "2024-04-20T11:03:14.247Z"
   },
   {
    "duration": 0,
    "start_time": "2024-04-20T11:03:14.248Z"
   },
   {
    "duration": 53,
    "start_time": "2024-04-20T11:24:31.614Z"
   },
   {
    "duration": 488,
    "start_time": "2024-04-20T18:05:49.467Z"
   },
   {
    "duration": 22,
    "start_time": "2024-04-20T18:05:49.956Z"
   },
   {
    "duration": 19,
    "start_time": "2024-04-20T18:05:49.980Z"
   },
   {
    "duration": 15,
    "start_time": "2024-04-20T18:05:50.001Z"
   },
   {
    "duration": 67,
    "start_time": "2024-04-20T18:05:50.018Z"
   },
   {
    "duration": 41,
    "start_time": "2024-04-20T18:05:50.086Z"
   },
   {
    "duration": 67,
    "start_time": "2024-04-20T18:05:50.129Z"
   },
   {
    "duration": 35,
    "start_time": "2024-04-20T18:05:50.198Z"
   },
   {
    "duration": 31,
    "start_time": "2024-04-20T18:05:50.234Z"
   },
   {
    "duration": 13,
    "start_time": "2024-04-20T18:05:50.266Z"
   },
   {
    "duration": 34,
    "start_time": "2024-04-20T18:05:50.281Z"
   },
   {
    "duration": 9,
    "start_time": "2024-04-20T18:05:50.317Z"
   },
   {
    "duration": 10,
    "start_time": "2024-04-20T18:05:50.328Z"
   },
   {
    "duration": 24,
    "start_time": "2024-04-20T18:05:50.341Z"
   },
   {
    "duration": 49,
    "start_time": "2024-04-20T18:05:50.366Z"
   },
   {
    "duration": 15,
    "start_time": "2024-04-20T18:05:50.416Z"
   },
   {
    "duration": 3,
    "start_time": "2024-04-20T18:05:50.433Z"
   },
   {
    "duration": 15,
    "start_time": "2024-04-20T18:05:50.438Z"
   },
   {
    "duration": 5,
    "start_time": "2024-04-20T18:05:50.455Z"
   },
   {
    "duration": 17,
    "start_time": "2024-04-20T18:05:50.462Z"
   },
   {
    "duration": 19,
    "start_time": "2024-04-20T18:05:50.480Z"
   },
   {
    "duration": 19,
    "start_time": "2024-04-20T18:05:50.501Z"
   },
   {
    "duration": 41,
    "start_time": "2024-04-20T18:05:50.521Z"
   },
   {
    "duration": 22,
    "start_time": "2024-04-20T18:05:50.564Z"
   },
   {
    "duration": 28,
    "start_time": "2024-04-20T18:05:50.588Z"
   },
   {
    "duration": 11,
    "start_time": "2024-04-20T18:05:50.618Z"
   }
  ],
  "colab": {
   "name": "dpp_template_part2.ipynb",
   "provenance": []
  },
  "kernelspec": {
   "display_name": "Python 3 (ipykernel)",
   "language": "python",
   "name": "python3"
  },
  "language_info": {
   "codemirror_mode": {
    "name": "ipython",
    "version": 3
   },
   "file_extension": ".py",
   "mimetype": "text/x-python",
   "name": "python",
   "nbconvert_exporter": "python",
   "pygments_lexer": "ipython3",
   "version": "3.11.7"
  },
  "toc": {
   "base_numbering": 1,
   "nav_menu": {},
   "number_sections": true,
   "sideBar": true,
   "skip_h1_title": true,
   "title_cell": "Table of Contents",
   "title_sidebar": "Contents",
   "toc_cell": false,
   "toc_position": {},
   "toc_section_display": true,
   "toc_window_display": true
  }
 },
 "nbformat": 4,
 "nbformat_minor": 5
}
